{
  "nbformat": 4,
  "nbformat_minor": 0,
  "metadata": {
    "colab": {
      "provenance": [],
      "authorship_tag": "ABX9TyPJJjbI/VFZiBfnOuEuL8Ez",
      "include_colab_link": true
    },
    "kernelspec": {
      "name": "python3",
      "display_name": "Python 3"
    },
    "language_info": {
      "name": "python"
    }
  },
  "cells": [
    {
      "cell_type": "markdown",
      "metadata": {
        "id": "view-in-github",
        "colab_type": "text"
      },
      "source": [
        "<a href=\"https://colab.research.google.com/github/ravi18kumar2021/100DaysOfCode/blob/main/Day1_of_the_code.ipynb\" target=\"_parent\"><img src=\"https://colab.research.google.com/assets/colab-badge.svg\" alt=\"Open In Colab\"/></a>"
      ]
    },
    {
      "cell_type": "markdown",
      "source": [
        "Q. Print the given strings as per stated format."
      ],
      "metadata": {
        "id": "qAu14zj9Uhb_"
      }
    },
    {
      "cell_type": "markdown",
      "source": [
        "Input -\n",
        "```\n",
        "\"This\" \"is\" \"Day\"\n",
        "\"One\" \"of\" \"Programming\"\n",
        "```\n",
        "Output -\n",
        "```\n",
        "This-is-Day-One-of-Programming\n",
        "```"
      ],
      "metadata": {
        "id": "HzvmqlHSUrxu"
      }
    },
    {
      "cell_type": "code",
      "execution_count": 1,
      "metadata": {
        "colab": {
          "base_uri": "https://localhost:8080/"
        },
        "id": "sB-ocJa_IZsF",
        "outputId": "2fdf7d87-e867-40b8-e13e-44848fdef8f5"
      },
      "outputs": [
        {
          "output_type": "stream",
          "name": "stdout",
          "text": [
            "This-is-Day-One-of-Programming\n"
          ]
        }
      ],
      "source": [
        "# using the sep parameter of the print function\n",
        "print(\"This\", \"is\", \"Day\", \"One\", \"of\", \"Programming\", sep='-')"
      ]
    },
    {
      "cell_type": "markdown",
      "source": [
        "Q. Write a program that will convert celsius value to fahrenheit."
      ],
      "metadata": {
        "id": "pZiH_o3EVc6u"
      }
    },
    {
      "cell_type": "code",
      "source": [
        "celsius_value = 41\n",
        "fahrenheit_value = (9 / 5 * celsius_value) + 32\n",
        "print(celsius_value, \"C is equal to\", fahrenheit_value, \"F\")"
      ],
      "metadata": {
        "colab": {
          "base_uri": "https://localhost:8080/"
        },
        "id": "CLP-Z2LwVVK8",
        "outputId": "20d8e77e-cbe7-4b67-ad1e-be8927467dba"
      },
      "execution_count": 3,
      "outputs": [
        {
          "output_type": "stream",
          "name": "stdout",
          "text": [
            "41 C is equal to 105.8 F\n"
          ]
        }
      ]
    },
    {
      "cell_type": "markdown",
      "source": [
        "Q. Take 2 numbers as input from the user.Write a program to swap the numbers without using any special python syntax."
      ],
      "metadata": {
        "id": "ogPv0uQqWPVa"
      }
    },
    {
      "cell_type": "code",
      "source": [
        "fnum = int(input(\"Enter first number : \"))\n",
        "snum = int(input(\"Enter second number : \"))\n",
        "print(\"Before swapping, value of first and second number :\", fnum, \"&\", snum)\n",
        "temp = fnum\n",
        "fnum = snum\n",
        "snum = temp\n",
        "print(\"After swapping, value of first and second number :\", fnum, \"&\", snum)"
      ],
      "metadata": {
        "colab": {
          "base_uri": "https://localhost:8080/"
        },
        "id": "QmwtNKliWLRq",
        "outputId": "d7582491-f89e-4c37-905f-7a60f3b13ab6"
      },
      "execution_count": 4,
      "outputs": [
        {
          "output_type": "stream",
          "name": "stdout",
          "text": [
            "Enter first number : 5\n",
            "Enter second number : 2\n",
            "Before swapping, value of first and second number : 5 & 2\n",
            "After swapping, value of first and second number : 2 & 5\n"
          ]
        }
      ]
    },
    {
      "cell_type": "markdown",
      "source": [
        "Q. Write a program to find the euclidean distance between two coordinates.Take both the coordinates from the user as input."
      ],
      "metadata": {
        "id": "kXXFEJgsW4FO"
      }
    },
    {
      "cell_type": "code",
      "source": [
        "x1 = int(input(\"Enter x1 : \"))\n",
        "y1 = int(input(\"Enter y1 : \"))\n",
        "x2 = int(input(\"Enter x2 : \"))\n",
        "y2 = int(input(\"Enter y2 : \"))\n",
        "euclidean_distance = ((x1**2 - x2**2) + (y1**2 - y2**2))**1/2\n",
        "print(\"Euclidean Distance :\", euclidean_distance)"
      ],
      "metadata": {
        "colab": {
          "base_uri": "https://localhost:8080/"
        },
        "id": "Y4rHsEIdW_Rx",
        "outputId": "37cf9844-b3ff-4b62-da95-422fba7ad946"
      },
      "execution_count": 5,
      "outputs": [
        {
          "output_type": "stream",
          "name": "stdout",
          "text": [
            "Enter x1 : 4\n",
            "Enter y1 : 7\n",
            "Enter x2 : 3\n",
            "Enter y2 : 5\n",
            "Euclidean Distance : 15.5\n"
          ]
        }
      ]
    },
    {
      "cell_type": "markdown",
      "source": [
        "Q. Write a program to find the simple interest when the value of principle,rate of interest and time period is provided by the user."
      ],
      "metadata": {
        "id": "XbHEJy3xX5A0"
      }
    },
    {
      "cell_type": "code",
      "source": [
        "principle = int(input(\"Enter principle amount : \"))\n",
        "rate = float(input(\"Enter rate : \"))\n",
        "time = int(input(\"Enter time period : \"))\n",
        "simple_interest = (principle * rate * time) / 100"
      ],
      "metadata": {
        "colab": {
          "base_uri": "https://localhost:8080/"
        },
        "id": "mEYdufuJXwVA",
        "outputId": "f3db7993-6fa5-4f21-b1fe-b11d879a5c4d"
      },
      "execution_count": 8,
      "outputs": [
        {
          "name": "stdout",
          "output_type": "stream",
          "text": [
            "Enter principle amount : 3000\n",
            "Enter rate : 4.5\n",
            "Enter time period : 10\n"
          ]
        }
      ]
    },
    {
      "cell_type": "code",
      "source": [
        "print(\"Simple Interest :\", simple_interest)"
      ],
      "metadata": {
        "colab": {
          "base_uri": "https://localhost:8080/"
        },
        "id": "s2I8IGcyYajG",
        "outputId": "86daee1d-40c6-45a3-9080-3ac85cd916b9"
      },
      "execution_count": 9,
      "outputs": [
        {
          "output_type": "stream",
          "name": "stdout",
          "text": [
            "Simple Interest : 1350.0\n"
          ]
        }
      ]
    },
    {
      "cell_type": "markdown",
      "source": [
        "Q. Write a program that will tell the number of dogs and chicken are there when the user will provide the value of total heads and legs."
      ],
      "metadata": {
        "id": "kLKy_keFZFmv"
      }
    },
    {
      "cell_type": "code",
      "source": [
        "dogs = chickens = 0\n",
        "heads = int(input(\"Enter the number of heads : \"))\n",
        "legs = int(input(\"Enter the number of legs : \"))\n",
        "\n",
        "# 4x + 2y = legs\n",
        "# x + y = heads\n",
        "# x = (legs - 2*heads) / 2\n",
        "dogs = int((legs - 2*heads) / 2)\n",
        "chickens = heads - dogs\n",
        "print(\"Number of dogs and chickens :\", dogs, \"&\", chickens)"
      ],
      "metadata": {
        "colab": {
          "base_uri": "https://localhost:8080/"
        },
        "id": "iT67Z4J7Y-Rf",
        "outputId": "b7442044-4bad-4c54-8f68-54f4eb424760"
      },
      "execution_count": 11,
      "outputs": [
        {
          "output_type": "stream",
          "name": "stdout",
          "text": [
            "Enter the number of heads : 5\n",
            "Enter the number of legs : 16\n",
            "Number of dogs and chickens : 3 & 2\n"
          ]
        }
      ]
    },
    {
      "cell_type": "markdown",
      "source": [
        "Q. Write a program to find the sum of squares of first n natural numbers where n will be provided by the user."
      ],
      "metadata": {
        "id": "MsgKT-gUbTTI"
      }
    },
    {
      "cell_type": "code",
      "source": [
        "# sum of square of first n natural number = (n x n+1 x 2(n+1)/6)\n",
        "n = int(input(\"Enter the value of n : \"))\n",
        "result = int((n * (n + 1) * (2*n + 1)) / 6)\n",
        "print(\"Sum of\", n, \"natural number is\", result)"
      ],
      "metadata": {
        "colab": {
          "base_uri": "https://localhost:8080/"
        },
        "id": "u4irjGjwa6fX",
        "outputId": "d11724f6-6b94-4f0d-a8c2-f559ddeb0fb8"
      },
      "execution_count": 12,
      "outputs": [
        {
          "output_type": "stream",
          "name": "stdout",
          "text": [
            "Enter the value of n : 7\n",
            "Sum of 7 natural number is 140\n"
          ]
        }
      ]
    },
    {
      "cell_type": "markdown",
      "source": [
        "Q. Given the first 2 terms of an Arithmetic Series.Find the Nth term of the series. Assume all inputs are provided by the user."
      ],
      "metadata": {
        "id": "VFq8IU_7cvrg"
      }
    },
    {
      "cell_type": "code",
      "source": [
        "# nth term = first-num + difference * n-1\n",
        "fnum = int(input(\"Enter the first number : \"))\n",
        "snum = int(input(\"Enter the second number : \"))\n",
        "n = int(input(\"Enter n :\"))\n",
        "diff = snum - fnum\n",
        "result = fnum + (diff * (n - 1))\n",
        "print(\"The nth value :\", result)"
      ],
      "metadata": {
        "colab": {
          "base_uri": "https://localhost:8080/"
        },
        "id": "hae3w-VCcf_t",
        "outputId": "7827073a-993f-450a-ebce-5e8857535d6d"
      },
      "execution_count": 13,
      "outputs": [
        {
          "output_type": "stream",
          "name": "stdout",
          "text": [
            "Enter the first number : 3\n",
            "Enter the second number : 7\n",
            "Enter n :12\n",
            "The nth value : 47\n"
          ]
        }
      ]
    },
    {
      "cell_type": "markdown",
      "source": [
        "Q. Given 2 fractions, find the sum of those 2 fractions.Take the numerator and denominator values of the fractions from the user."
      ],
      "metadata": {
        "id": "na-LQCdUdqTI"
      }
    },
    {
      "cell_type": "code",
      "source": [
        "n1 = int(input(\"Enter numerator 1 : \"))\n",
        "d1 = int(input(\"Enter denominator 1 : \"))\n",
        "n2 = int(input(\"Enter numerator 2 : \"))\n",
        "d2 = int(input(\"Enter denominator 2 : \"))\n",
        "result1 = (n1 * d2 + n2 * d1)\n",
        "result2 = d1 * d2\n",
        "print(\"The fraction sum is\", result1, \"/\", result2)"
      ],
      "metadata": {
        "colab": {
          "base_uri": "https://localhost:8080/"
        },
        "id": "vvQB0018duuU",
        "outputId": "b04342ad-0343-4a31-86a0-175e824dd590"
      },
      "execution_count": 15,
      "outputs": [
        {
          "output_type": "stream",
          "name": "stdout",
          "text": [
            "Enter numerator 1 : 3\n",
            "Enter denominator 1 : 5\n",
            "Enter numerator 2 : 2\n",
            "Enter denominator 2 : 6\n",
            "The fraction sum is 28 / 30\n"
          ]
        }
      ]
    },
    {
      "cell_type": "markdown",
      "source": [
        "Q. Given the height, width and breadth of a milk tank, you have to find out how many glasses of milk can be obtained? Assume all the inputs are provided by the user."
      ],
      "metadata": {
        "id": "ueZl4mbPep-d"
      }
    },
    {
      "cell_type": "code",
      "source": [
        "# volume of milk tank = h * w * b\n",
        "# volume of glass = 3.14 * r * r * h\n",
        "height = float(input(\"Enter the height of the milk tank : \"))\n",
        "width = float(input(\"Enter the width of the milk tank : \"))\n",
        "breadth = float(input(\"Enter the breadth of the milk tank : \"))\n",
        "glass_h = float(input(\"Enter the height of the glass : \"))\n",
        "glass_r = float(input(\"Enter the radius of the glass : \"))\n",
        "glass_num = int((height * width * breadth) / (3.14 * glass_r * glass_r * glass_h))\n",
        "print(\"Total number of glass : \", glass_num)"
      ],
      "metadata": {
        "colab": {
          "base_uri": "https://localhost:8080/"
        },
        "id": "xcFT4fNQeCUs",
        "outputId": "9ff9206c-24f8-4991-bb51-53ca79e0d33c"
      },
      "execution_count": 19,
      "outputs": [
        {
          "output_type": "stream",
          "name": "stdout",
          "text": [
            "Enter the height of the milk tank : 45.7\n",
            "Enter the width of the milk tank : 43.5\n",
            "Enter the breadth of the milk tank : 3.2\n",
            "Enter the height of the glass : 4.3\n",
            "Enter the radius of the glass : 1.3\n",
            "Total number of glass :  278\n"
          ]
        }
      ]
    }
  ]
}