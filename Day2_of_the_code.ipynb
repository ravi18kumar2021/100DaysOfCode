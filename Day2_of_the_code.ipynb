{
  "nbformat": 4,
  "nbformat_minor": 0,
  "metadata": {
    "colab": {
      "provenance": [],
      "authorship_tag": "ABX9TyM7qFEgcwR1ZJ8h1Wr8ujLA",
      "include_colab_link": true
    },
    "kernelspec": {
      "name": "python3",
      "display_name": "Python 3"
    },
    "language_info": {
      "name": "python"
    }
  },
  "cells": [
    {
      "cell_type": "markdown",
      "metadata": {
        "id": "view-in-github",
        "colab_type": "text"
      },
      "source": [
        "<a href=\"https://colab.research.google.com/github/ravi18kumar2021/100DaysOfCode/blob/main/Day2_of_the_code.ipynb\" target=\"_parent\"><img src=\"https://colab.research.google.com/assets/colab-badge.svg\" alt=\"Open In Colab\"/></a>"
      ]
    },
    {
      "cell_type": "markdown",
      "source": [
        "Q. Write a program that will give you in hand monthly salary after deduction on CTC - HRA(10%), DA(5%), PF(3%) and taxes deduction as below:\n",
        "```\n",
        "Salary(Lakhs) : Tax(%)\n",
        "\n",
        "Below 5 : 0%\n",
        "5-10 : 10%\n",
        "10-20 : 20%\n",
        "aboove 20 : 30%\n",
        "```"
      ],
      "metadata": {
        "id": "NVEHkg-KoyAk"
      }
    },
    {
      "cell_type": "code",
      "execution_count": null,
      "metadata": {
        "colab": {
          "base_uri": "https://localhost:8080/"
        },
        "id": "xaVkmC4roT4t",
        "outputId": "b63aaaa0-2ff2-42eb-9212-39fc79a8b50e"
      },
      "outputs": [
        {
          "output_type": "stream",
          "name": "stdout",
          "text": [
            "Enter the CTC : 230000\n",
            "In hand salary of CTC 230000 is 188600.0\n"
          ]
        }
      ],
      "source": [
        "ctc_amount = int(input(\"Enter the CTC : \"))\n",
        "deduction = (0.1 + 0.05 + 0.03) * ctc_amount\n",
        "if ctc_amount <= 500000:\n",
        "  tax = 0\n",
        "elif 500000 < ctc_amount <= 1000000:\n",
        "  tax = 10\n",
        "elif 1000000 < ctc_amount <= 2000000:\n",
        "  tax = 20\n",
        "else:\n",
        "  tax = 30\n",
        "in_hand_salary = ctc_amount - deduction - tax*ctc_amount\n",
        "print(\"In hand salary of CTC\", ctc_amount, \"is\", in_hand_salary)"
      ]
    },
    {
      "cell_type": "markdown",
      "source": [
        "Q. Write a program that take a user input of three angles and will find out whether it can form a triangle or not."
      ],
      "metadata": {
        "id": "Zkvuue1sq30C"
      }
    },
    {
      "cell_type": "code",
      "source": [
        "# sum of three angles is 180\n",
        "a = int(input(\"Enter angle 1 : \"))\n",
        "b = int(input(\"Enter angle 2 : \"))\n",
        "c = int(input(\"Enter angle 3 : \"))\n",
        "\n",
        "if (a + b + c) == 180:\n",
        "  print('it is a triangle')\n",
        "else:\n",
        "  print('it is not a triangle')"
      ],
      "metadata": {
        "colab": {
          "base_uri": "https://localhost:8080/"
        },
        "id": "V2qqTRbAqV_S",
        "outputId": "bab4731b-6abd-403c-baf2-086c26641578"
      },
      "execution_count": null,
      "outputs": [
        {
          "output_type": "stream",
          "name": "stdout",
          "text": [
            "Enter angle 1 : 56\n",
            "Enter angle 2 : 104\n",
            "Enter angle 3 : 20\n",
            "it is a triangle\n"
          ]
        }
      ]
    },
    {
      "cell_type": "markdown",
      "source": [
        "Q. Write a program that will take user input of cost price and selling price and determines whether its a loss or a profit."
      ],
      "metadata": {
        "id": "Z14Zap0VrkYx"
      }
    },
    {
      "cell_type": "code",
      "source": [
        "# profit = sp - cp, loss = cp - sp\n",
        "\n",
        "cp = int(input(\"Enter cost price : \"))\n",
        "sp = int(input(\"Enter selling price : \"))\n",
        "\n",
        "if cp < sp:\n",
        "  print('it is a profit')\n",
        "elif cp > sp:\n",
        "  print('it is a loss')\n",
        "else:\n",
        "  print('no profit no loss')"
      ],
      "metadata": {
        "colab": {
          "base_uri": "https://localhost:8080/"
        },
        "id": "Sk7ESaJZrRBF",
        "outputId": "d3e92314-5e63-4ced-e113-7be8c14b8da4"
      },
      "execution_count": null,
      "outputs": [
        {
          "output_type": "stream",
          "name": "stdout",
          "text": [
            "Enter cost price : 5600\n",
            "Enter selling price : 6200\n",
            "it is a profit\n"
          ]
        }
      ]
    },
    {
      "cell_type": "markdown",
      "source": [
        "Q. Write a menu-driven program -\n",
        "```\n",
        "1. cm to ft\n",
        "2. km to miles\n",
        "3. USD to INR\n",
        "4. exit\n",
        "```"
      ],
      "metadata": {
        "id": "ohW5k1kNsNnm"
      }
    },
    {
      "cell_type": "code",
      "source": [
        "menu = int(input('''\n",
        "Choose one unit conversion\n",
        "Press 1 for cm to ft\n",
        "Press 2 for km to miles\n",
        "Press 3 for USD to INR\n",
        "Press 4 for exit\n",
        "'''))\n",
        "if menu == 1:\n",
        "  # print('cm to ft')\n",
        "  cm = float(input('Enter cm : '))\n",
        "  ft = cm * 0.0328\n",
        "  print(cm, \"cm =\", ft, 'ft')\n",
        "elif menu == 2:\n",
        "  # print('km to miles')\n",
        "  km = float(input('Enter km : '))\n",
        "  miles = km * 0.6213\n",
        "  print(km, 'km =', miles, 'miles')\n",
        "elif menu == 3:\n",
        "  # print('USD to INR')\n",
        "  usd = float(input('Enter USD : '))\n",
        "  inr = usd * 83.3527\n",
        "  print(usd, 'USD =', inr, 'INR')\n",
        "elif menu == 4:\n",
        "  print('exit')"
      ],
      "metadata": {
        "colab": {
          "base_uri": "https://localhost:8080/"
        },
        "id": "F3XFu8WOsC_i",
        "outputId": "388f1555-c401-43b0-cb1d-0a74bf60f1a4"
      },
      "execution_count": null,
      "outputs": [
        {
          "output_type": "stream",
          "name": "stdout",
          "text": [
            "\n",
            "Choose one unit conversion\n",
            "Press 1 for cm to ft\n",
            "Press 2 for km to miles\n",
            "Press 3 for USD to INR\n",
            "Press 4 for exit\n",
            "3\n",
            "Enter USD : 34\n",
            "34.0 USD = 2833.9918 INR\n"
          ]
        }
      ]
    },
    {
      "cell_type": "markdown",
      "source": [
        "Q. Display Fibonacci series up to 10 terms"
      ],
      "metadata": {
        "id": "sPMCRxQ7uqoV"
      }
    },
    {
      "cell_type": "code",
      "source": [
        "# 0, 1, 1, 2, 3, 5, 8, 13, 21, ....\n",
        "a = 0\n",
        "b = 1\n",
        "print(a, b, sep = '\\n')\n",
        "for i in range(10):\n",
        "  result = a + b\n",
        "  print(result)\n",
        "  a = b\n",
        "  b = result"
      ],
      "metadata": {
        "colab": {
          "base_uri": "https://localhost:8080/"
        },
        "id": "ajAghQf_uXJK",
        "outputId": "d9fa215d-a1c8-4ab7-a2f3-0c8ed4aa2c58"
      },
      "execution_count": null,
      "outputs": [
        {
          "output_type": "stream",
          "name": "stdout",
          "text": [
            "0\n",
            "1\n",
            "1\n",
            "2\n",
            "3\n",
            "5\n",
            "8\n",
            "13\n",
            "21\n",
            "34\n",
            "55\n",
            "89\n"
          ]
        }
      ]
    },
    {
      "cell_type": "markdown",
      "source": [
        "Q. Find the factorial of a given number."
      ],
      "metadata": {
        "id": "gItMHU7GvzYc"
      }
    },
    {
      "cell_type": "code",
      "source": [
        "# 5! = 5 x 4 x 3 x 2 x 1\n",
        "\n",
        "num = int(input('Enter a number : '))\n",
        "result = 1\n",
        "while num > 0:\n",
        "  result = result * num\n",
        "  num -= 1\n",
        "print(result)"
      ],
      "metadata": {
        "colab": {
          "base_uri": "https://localhost:8080/"
        },
        "id": "AXMzUMLyv0pI",
        "outputId": "4db9b7e3-72b4-477c-f9c5-39e0b55fbe93"
      },
      "execution_count": null,
      "outputs": [
        {
          "output_type": "stream",
          "name": "stdout",
          "text": [
            "Enter a number : 7\n",
            "5040\n"
          ]
        }
      ]
    }
  ]
}