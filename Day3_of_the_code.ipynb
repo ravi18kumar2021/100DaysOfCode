{
  "nbformat": 4,
  "nbformat_minor": 0,
  "metadata": {
    "colab": {
      "provenance": [],
      "authorship_tag": "ABX9TyPOC/7/4xTzpluuWfFrEn1i",
      "include_colab_link": true
    },
    "kernelspec": {
      "name": "python3",
      "display_name": "Python 3"
    },
    "language_info": {
      "name": "python"
    }
  },
  "cells": [
    {
      "cell_type": "markdown",
      "metadata": {
        "id": "view-in-github",
        "colab_type": "text"
      },
      "source": [
        "<a href=\"https://colab.research.google.com/github/ravi18kumar2021/100DaysOfCode/blob/main/Day3_of_the_code.ipynb\" target=\"_parent\"><img src=\"https://colab.research.google.com/assets/colab-badge.svg\" alt=\"Open In Colab\"/></a>"
      ]
    },
    {
      "cell_type": "markdown",
      "source": [
        "Q. Print the following pattern. Write a program to use for loop to print the following reverse number pattern.\n",
        "```\n",
        "5 4 3 2 1\n",
        "4 3 2 1\n",
        "3 2 1\n",
        "2 1\n",
        "1\n",
        "```"
      ],
      "metadata": {
        "id": "-3G_deik762W"
      }
    },
    {
      "cell_type": "code",
      "execution_count": 1,
      "metadata": {
        "id": "TjPxCaAX7yjG",
        "colab": {
          "base_uri": "https://localhost:8080/"
        },
        "outputId": "d07e2749-93af-431b-e1b1-8cf467035ce4"
      },
      "outputs": [
        {
          "output_type": "stream",
          "name": "stdout",
          "text": [
            "5 4 3 2 1 \n",
            "4 3 2 1 \n",
            "3 2 1 \n",
            "2 1 \n",
            "1 \n"
          ]
        }
      ],
      "source": [
        "# outer loop start from 5 to 1 and inner loop start from current value of outer loop to 1\n",
        "for i in range(5, 0, -1):\n",
        "  for j in range(i, 0, -1):\n",
        "    print(j, end=' ')\n",
        "  print()"
      ]
    },
    {
      "cell_type": "markdown",
      "source": [
        "Q. Print the following pattern.\n",
        "```\n",
        "*\n",
        "* *\n",
        "* * *\n",
        "* * * *\n",
        "* * * * *\n",
        "* * * *\n",
        "* * *\n",
        "* *\n",
        "*\n",
        "```"
      ],
      "metadata": {
        "id": "UgVB6QP_9uOd"
      }
    },
    {
      "cell_type": "code",
      "source": [
        "# ounter loop start from 1 to 9, first inner loop start from 1 to 5 and second inner loop start from 4 to 1\n",
        "for i in range(1, 10):\n",
        "  if i < 6:\n",
        "    for j in range(1, i+1):\n",
        "      print('*', end=' ')\n",
        "    print()\n",
        "  else:\n",
        "    for k in range(10-i, 0, -1):\n",
        "      print('*', end=' ')\n",
        "    print()"
      ],
      "metadata": {
        "id": "12OoweLm9SGC",
        "colab": {
          "base_uri": "https://localhost:8080/"
        },
        "outputId": "0fdb59ad-9bea-46f8-b70a-ca92728bf35e"
      },
      "execution_count": 4,
      "outputs": [
        {
          "output_type": "stream",
          "name": "stdout",
          "text": [
            "* \n",
            "* * \n",
            "* * * \n",
            "* * * * \n",
            "* * * * * \n",
            "* * * * \n",
            "* * * \n",
            "* * \n",
            "* \n"
          ]
        }
      ]
    },
    {
      "cell_type": "markdown",
      "source": [
        "Q. Write a program that will take a decimal number as input and prints out the binary equivalent of the number"
      ],
      "metadata": {
        "id": "y1xpvtxpBjVJ"
      }
    },
    {
      "cell_type": "code",
      "source": [
        "num = int(input('Enter a number : '))\n",
        "power = 0\n",
        "while num >= 2**power:\n",
        "  power += 1\n",
        "\n",
        "result = 0\n",
        "for i in range(power-1, -1, -1):\n",
        "  if 2**i + result > num:\n",
        "    print(2**i,'-> 0')\n",
        "  else:\n",
        "    print(2**i,'-> 1')\n",
        "    result = 2**i + result"
      ],
      "metadata": {
        "colab": {
          "base_uri": "https://localhost:8080/"
        },
        "id": "_V9q6GXLAhik",
        "outputId": "b69dab80-9aab-4237-ebb2-c060f7ed67b5"
      },
      "execution_count": 5,
      "outputs": [
        {
          "output_type": "stream",
          "name": "stdout",
          "text": [
            "Enter a number : 36\n",
            "32 -> 1\n",
            "16 -> 0\n",
            "8 -> 0\n",
            "4 -> 1\n",
            "2 -> 0\n",
            "1 -> 0\n"
          ]
        }
      ]
    }
  ]
}