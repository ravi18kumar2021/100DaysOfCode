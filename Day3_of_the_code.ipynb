{
  "nbformat": 4,
  "nbformat_minor": 0,
  "metadata": {
    "colab": {
      "provenance": [],
      "authorship_tag": "ABX9TyNsVG0KYMU6Rrn2zU+H+VTh",
      "include_colab_link": true
    },
    "kernelspec": {
      "name": "python3",
      "display_name": "Python 3"
    },
    "language_info": {
      "name": "python"
    }
  },
  "cells": [
    {
      "cell_type": "markdown",
      "metadata": {
        "id": "view-in-github",
        "colab_type": "text"
      },
      "source": [
        "<a href=\"https://colab.research.google.com/github/ravi18kumar2021/100DaysOfCode/blob/main/Day3_of_the_code.ipynb\" target=\"_parent\"><img src=\"https://colab.research.google.com/assets/colab-badge.svg\" alt=\"Open In Colab\"/></a>"
      ]
    },
    {
      "cell_type": "markdown",
      "source": [
        "Q. Print the following pattern. Write a program to use for loop to print the following reverse number pattern.\n",
        "```\n",
        "5 4 3 2 1\n",
        "4 3 2 1\n",
        "3 2 1\n",
        "2 1\n",
        "1\n",
        "```"
      ],
      "metadata": {
        "id": "-3G_deik762W"
      }
    },
    {
      "cell_type": "code",
      "execution_count": null,
      "metadata": {
        "id": "TjPxCaAX7yjG",
        "colab": {
          "base_uri": "https://localhost:8080/"
        },
        "outputId": "d07e2749-93af-431b-e1b1-8cf467035ce4"
      },
      "outputs": [
        {
          "output_type": "stream",
          "name": "stdout",
          "text": [
            "5 4 3 2 1 \n",
            "4 3 2 1 \n",
            "3 2 1 \n",
            "2 1 \n",
            "1 \n"
          ]
        }
      ],
      "source": [
        "# outer loop start from 5 to 1 and inner loop start from current value of outer loop to 1\n",
        "for i in range(5, 0, -1):\n",
        "  for j in range(i, 0, -1):\n",
        "    print(j, end=' ')\n",
        "  print()"
      ]
    },
    {
      "cell_type": "markdown",
      "source": [
        "Q. Print the following pattern.\n",
        "```\n",
        "*\n",
        "* *\n",
        "* * *\n",
        "* * * *\n",
        "* * * * *\n",
        "* * * *\n",
        "* * *\n",
        "* *\n",
        "*\n",
        "```"
      ],
      "metadata": {
        "id": "UgVB6QP_9uOd"
      }
    },
    {
      "cell_type": "code",
      "source": [
        "# ounter loop start from 1 to 9, first inner loop start from 1 to 5 and second inner loop start from 4 to 1\n",
        "for i in range(1, 10):\n",
        "  if i < 6:\n",
        "    for j in range(1, i+1):\n",
        "      print('*', end=' ')\n",
        "    print()\n",
        "  else:\n",
        "    for k in range(10-i, 0, -1):\n",
        "      print('*', end=' ')\n",
        "    print()"
      ],
      "metadata": {
        "id": "12OoweLm9SGC",
        "colab": {
          "base_uri": "https://localhost:8080/"
        },
        "outputId": "0fdb59ad-9bea-46f8-b70a-ca92728bf35e"
      },
      "execution_count": null,
      "outputs": [
        {
          "output_type": "stream",
          "name": "stdout",
          "text": [
            "* \n",
            "* * \n",
            "* * * \n",
            "* * * * \n",
            "* * * * * \n",
            "* * * * \n",
            "* * * \n",
            "* * \n",
            "* \n"
          ]
        }
      ]
    },
    {
      "cell_type": "markdown",
      "source": [
        "Q. Write a program to pring the following pattern.\n",
        "```\n",
        "  *\n",
        " * *\n",
        "* * *\n",
        "```"
      ],
      "metadata": {
        "id": "84yyQwmvlXXA"
      }
    },
    {
      "cell_type": "code",
      "source": [
        "rows = int(input('Enter rows : '))\n",
        "for i in range(1, rows+1):\n",
        "  print(' '*(rows-i), end='')\n",
        "  print('* '*i)"
      ],
      "metadata": {
        "colab": {
          "base_uri": "https://localhost:8080/"
        },
        "id": "NCTm-_ZXls_d",
        "outputId": "ce498ce3-8ee0-467d-dba7-aadc6e7925a5"
      },
      "execution_count": null,
      "outputs": [
        {
          "output_type": "stream",
          "name": "stdout",
          "text": [
            "Enter rows : 4\n",
            "   * \n",
            "  * * \n",
            " * * * \n",
            "* * * * \n"
          ]
        }
      ]
    },
    {
      "cell_type": "markdown",
      "source": [
        "Q. Write a program to print the following pattern.\n",
        "```\n",
        "1\n",
        "2 1\n",
        "3 2 1\n",
        "4 3 2 1\n",
        "5 4 3 2 1\n",
        "```"
      ],
      "metadata": {
        "id": "zQf4iYU4qsBv"
      }
    },
    {
      "cell_type": "code",
      "source": [
        "rows = 5\n",
        "for i in range(1, rows+1):\n",
        "  for j in range(i, 0, -1):\n",
        "    print(j, end=' ')\n",
        "  print()"
      ],
      "metadata": {
        "colab": {
          "base_uri": "https://localhost:8080/"
        },
        "id": "2uaa8ba2qy6U",
        "outputId": "99dcc0cc-1fa9-413f-bbe4-47407bb06362"
      },
      "execution_count": null,
      "outputs": [
        {
          "output_type": "stream",
          "name": "stdout",
          "text": [
            "1 \n",
            "2 1 \n",
            "3 2 1 \n",
            "4 3 2 1 \n",
            "5 4 3 2 1 \n"
          ]
        }
      ]
    },
    {
      "cell_type": "markdown",
      "source": [
        "Q. Write a Python Program to Find the Sum of the Series till the nth term:\n",
        "\n",
        "1 + x^2/2 + x^3/3 + … x^n/n\n",
        "\n",
        "n will be provided by the user"
      ],
      "metadata": {
        "id": "FTfvq4H3rLDl"
      }
    },
    {
      "cell_type": "code",
      "source": [
        "n = int(input('Enter n : '))\n",
        "x = 10\n",
        "result = 0\n",
        "series = ''\n",
        "print('1 + ', end='')\n",
        "for i in range(1, n+1):\n",
        "  result = result + x**i/i\n",
        "  series = series + 'x^{}/{} +'.format(i, i)\n",
        "print(series[:-1])\n",
        "print(result)"
      ],
      "metadata": {
        "colab": {
          "base_uri": "https://localhost:8080/"
        },
        "id": "PIU8P-_rrVPR",
        "outputId": "7f61279d-8389-45af-efdf-04b62facadc1"
      },
      "execution_count": null,
      "outputs": [
        {
          "output_type": "stream",
          "name": "stdout",
          "text": [
            "Enter n : 6\n",
            "1 + x^1/1 +x^2/2 +x^3/3 +x^4/4 +x^5/5 +x^6/6 \n",
            "189560.0\n"
          ]
        }
      ]
    },
    {
      "cell_type": "markdown",
      "source": [
        "Q. The natural logarithm can be approximated by the following series.\n",
        "```\n",
        "(x-1/x) + 1/2(x-1/x)^2 + 1/2(x-1/x)^3 + 1/2(x-1/x)^4 + ...\n",
        "```\n",
        "Write a program to calculate the sum of the first seven terms of this series."
      ],
      "metadata": {
        "id": "dvDXyaGcwnPM"
      }
    },
    {
      "cell_type": "code",
      "source": [
        "x = 10\n",
        "n = 7\n",
        "result = 0\n",
        "series = ''\n",
        "for i in range(1, n+1):\n",
        "  result = result + 1/2*((x-1/x)**i)\n",
        "  series = series + '1/2(x-1/x)^{} + '.format(i)\n",
        "print(series[3:-3])\n",
        "print(result)"
      ],
      "metadata": {
        "colab": {
          "base_uri": "https://localhost:8080/"
        },
        "id": "qlWENp6XwmBA",
        "outputId": "cc1d5c74-5ada-4b85-a1c4-22ea1443105d"
      },
      "execution_count": null,
      "outputs": [
        {
          "output_type": "stream",
          "name": "stdout",
          "text": [
            "(x-1/x)^1 + 1/2(x-1/x)^2 + 1/2(x-1/x)^3 + 1/2(x-1/x)^4 + 1/2(x-1/x)^5 + 1/2(x-1/x)^6 + 1/2(x-1/x)^7\n",
            "5183958.401280451\n"
          ]
        }
      ]
    },
    {
      "cell_type": "markdown",
      "source": [
        "Q. Write a program to calculate the sum of series up to n term. For example, if n =5 the series will become 2 + 22 + 222 + 2222 + 22222 = 24690. Take the user input and then calculate. And the output style should match which is given in the example."
      ],
      "metadata": {
        "id": "CbU0Or2wzyqN"
      }
    },
    {
      "cell_type": "code",
      "source": [
        "n = 5\n",
        "result = 0\n",
        "series = ''\n",
        "for i in range(1, n+1):\n",
        "  result = result + int('2'*i)\n",
        "  series = series + '2'*i + ' + '\n",
        "print(series[:-3])\n",
        "print(result)"
      ],
      "metadata": {
        "colab": {
          "base_uri": "https://localhost:8080/"
        },
        "id": "nUsy2SQfz1lq",
        "outputId": "43562dc4-464d-4861-d81e-3181a0f05b05"
      },
      "execution_count": null,
      "outputs": [
        {
          "output_type": "stream",
          "name": "stdout",
          "text": [
            "2 + 22 + 222 + 2222 + 22222\n",
            "24690\n"
          ]
        }
      ]
    },
    {
      "cell_type": "markdown",
      "source": [
        "Q. Write a program to print all the unique combinations of 1,2,3 and 4"
      ],
      "metadata": {
        "id": "hsPwl-RV0_yF"
      }
    },
    {
      "cell_type": "code",
      "source": [
        "for i in range(1, 5):\n",
        "  for j in range(1, 5):\n",
        "    for k in range(1, 5):\n",
        "      for l in range(1, 5):\n",
        "        print(i, j, k, l)"
      ],
      "metadata": {
        "colab": {
          "base_uri": "https://localhost:8080/"
        },
        "id": "rObvoIVi1CQa",
        "outputId": "720bc9b6-4fcc-4589-f4c5-67668ec3b96f"
      },
      "execution_count": null,
      "outputs": [
        {
          "output_type": "stream",
          "name": "stdout",
          "text": [
            "1 1 1 1\n",
            "1 1 1 2\n",
            "1 1 1 3\n",
            "1 1 1 4\n",
            "1 1 2 1\n",
            "1 1 2 2\n",
            "1 1 2 3\n",
            "1 1 2 4\n",
            "1 1 3 1\n",
            "1 1 3 2\n",
            "1 1 3 3\n",
            "1 1 3 4\n",
            "1 1 4 1\n",
            "1 1 4 2\n",
            "1 1 4 3\n",
            "1 1 4 4\n",
            "1 2 1 1\n",
            "1 2 1 2\n",
            "1 2 1 3\n",
            "1 2 1 4\n",
            "1 2 2 1\n",
            "1 2 2 2\n",
            "1 2 2 3\n",
            "1 2 2 4\n",
            "1 2 3 1\n",
            "1 2 3 2\n",
            "1 2 3 3\n",
            "1 2 3 4\n",
            "1 2 4 1\n",
            "1 2 4 2\n",
            "1 2 4 3\n",
            "1 2 4 4\n",
            "1 3 1 1\n",
            "1 3 1 2\n",
            "1 3 1 3\n",
            "1 3 1 4\n",
            "1 3 2 1\n",
            "1 3 2 2\n",
            "1 3 2 3\n",
            "1 3 2 4\n",
            "1 3 3 1\n",
            "1 3 3 2\n",
            "1 3 3 3\n",
            "1 3 3 4\n",
            "1 3 4 1\n",
            "1 3 4 2\n",
            "1 3 4 3\n",
            "1 3 4 4\n",
            "1 4 1 1\n",
            "1 4 1 2\n",
            "1 4 1 3\n",
            "1 4 1 4\n",
            "1 4 2 1\n",
            "1 4 2 2\n",
            "1 4 2 3\n",
            "1 4 2 4\n",
            "1 4 3 1\n",
            "1 4 3 2\n",
            "1 4 3 3\n",
            "1 4 3 4\n",
            "1 4 4 1\n",
            "1 4 4 2\n",
            "1 4 4 3\n",
            "1 4 4 4\n",
            "2 1 1 1\n",
            "2 1 1 2\n",
            "2 1 1 3\n",
            "2 1 1 4\n",
            "2 1 2 1\n",
            "2 1 2 2\n",
            "2 1 2 3\n",
            "2 1 2 4\n",
            "2 1 3 1\n",
            "2 1 3 2\n",
            "2 1 3 3\n",
            "2 1 3 4\n",
            "2 1 4 1\n",
            "2 1 4 2\n",
            "2 1 4 3\n",
            "2 1 4 4\n",
            "2 2 1 1\n",
            "2 2 1 2\n",
            "2 2 1 3\n",
            "2 2 1 4\n",
            "2 2 2 1\n",
            "2 2 2 2\n",
            "2 2 2 3\n",
            "2 2 2 4\n",
            "2 2 3 1\n",
            "2 2 3 2\n",
            "2 2 3 3\n",
            "2 2 3 4\n",
            "2 2 4 1\n",
            "2 2 4 2\n",
            "2 2 4 3\n",
            "2 2 4 4\n",
            "2 3 1 1\n",
            "2 3 1 2\n",
            "2 3 1 3\n",
            "2 3 1 4\n",
            "2 3 2 1\n",
            "2 3 2 2\n",
            "2 3 2 3\n",
            "2 3 2 4\n",
            "2 3 3 1\n",
            "2 3 3 2\n",
            "2 3 3 3\n",
            "2 3 3 4\n",
            "2 3 4 1\n",
            "2 3 4 2\n",
            "2 3 4 3\n",
            "2 3 4 4\n",
            "2 4 1 1\n",
            "2 4 1 2\n",
            "2 4 1 3\n",
            "2 4 1 4\n",
            "2 4 2 1\n",
            "2 4 2 2\n",
            "2 4 2 3\n",
            "2 4 2 4\n",
            "2 4 3 1\n",
            "2 4 3 2\n",
            "2 4 3 3\n",
            "2 4 3 4\n",
            "2 4 4 1\n",
            "2 4 4 2\n",
            "2 4 4 3\n",
            "2 4 4 4\n",
            "3 1 1 1\n",
            "3 1 1 2\n",
            "3 1 1 3\n",
            "3 1 1 4\n",
            "3 1 2 1\n",
            "3 1 2 2\n",
            "3 1 2 3\n",
            "3 1 2 4\n",
            "3 1 3 1\n",
            "3 1 3 2\n",
            "3 1 3 3\n",
            "3 1 3 4\n",
            "3 1 4 1\n",
            "3 1 4 2\n",
            "3 1 4 3\n",
            "3 1 4 4\n",
            "3 2 1 1\n",
            "3 2 1 2\n",
            "3 2 1 3\n",
            "3 2 1 4\n",
            "3 2 2 1\n",
            "3 2 2 2\n",
            "3 2 2 3\n",
            "3 2 2 4\n",
            "3 2 3 1\n",
            "3 2 3 2\n",
            "3 2 3 3\n",
            "3 2 3 4\n",
            "3 2 4 1\n",
            "3 2 4 2\n",
            "3 2 4 3\n",
            "3 2 4 4\n",
            "3 3 1 1\n",
            "3 3 1 2\n",
            "3 3 1 3\n",
            "3 3 1 4\n",
            "3 3 2 1\n",
            "3 3 2 2\n",
            "3 3 2 3\n",
            "3 3 2 4\n",
            "3 3 3 1\n",
            "3 3 3 2\n",
            "3 3 3 3\n",
            "3 3 3 4\n",
            "3 3 4 1\n",
            "3 3 4 2\n",
            "3 3 4 3\n",
            "3 3 4 4\n",
            "3 4 1 1\n",
            "3 4 1 2\n",
            "3 4 1 3\n",
            "3 4 1 4\n",
            "3 4 2 1\n",
            "3 4 2 2\n",
            "3 4 2 3\n",
            "3 4 2 4\n",
            "3 4 3 1\n",
            "3 4 3 2\n",
            "3 4 3 3\n",
            "3 4 3 4\n",
            "3 4 4 1\n",
            "3 4 4 2\n",
            "3 4 4 3\n",
            "3 4 4 4\n",
            "4 1 1 1\n",
            "4 1 1 2\n",
            "4 1 1 3\n",
            "4 1 1 4\n",
            "4 1 2 1\n",
            "4 1 2 2\n",
            "4 1 2 3\n",
            "4 1 2 4\n",
            "4 1 3 1\n",
            "4 1 3 2\n",
            "4 1 3 3\n",
            "4 1 3 4\n",
            "4 1 4 1\n",
            "4 1 4 2\n",
            "4 1 4 3\n",
            "4 1 4 4\n",
            "4 2 1 1\n",
            "4 2 1 2\n",
            "4 2 1 3\n",
            "4 2 1 4\n",
            "4 2 2 1\n",
            "4 2 2 2\n",
            "4 2 2 3\n",
            "4 2 2 4\n",
            "4 2 3 1\n",
            "4 2 3 2\n",
            "4 2 3 3\n",
            "4 2 3 4\n",
            "4 2 4 1\n",
            "4 2 4 2\n",
            "4 2 4 3\n",
            "4 2 4 4\n",
            "4 3 1 1\n",
            "4 3 1 2\n",
            "4 3 1 3\n",
            "4 3 1 4\n",
            "4 3 2 1\n",
            "4 3 2 2\n",
            "4 3 2 3\n",
            "4 3 2 4\n",
            "4 3 3 1\n",
            "4 3 3 2\n",
            "4 3 3 3\n",
            "4 3 3 4\n",
            "4 3 4 1\n",
            "4 3 4 2\n",
            "4 3 4 3\n",
            "4 3 4 4\n",
            "4 4 1 1\n",
            "4 4 1 2\n",
            "4 4 1 3\n",
            "4 4 1 4\n",
            "4 4 2 1\n",
            "4 4 2 2\n",
            "4 4 2 3\n",
            "4 4 2 4\n",
            "4 4 3 1\n",
            "4 4 3 2\n",
            "4 4 3 3\n",
            "4 4 3 4\n",
            "4 4 4 1\n",
            "4 4 4 2\n",
            "4 4 4 3\n",
            "4 4 4 4\n"
          ]
        }
      ]
    },
    {
      "cell_type": "markdown",
      "source": [
        "Q. Write a program that will take a decimal number as input and prints out the binary equivalent of the number"
      ],
      "metadata": {
        "id": "y1xpvtxpBjVJ"
      }
    },
    {
      "cell_type": "code",
      "source": [
        "num = int(input('Enter a number : '))\n",
        "power = 0\n",
        "while num >= 2**power:\n",
        "  power += 1\n",
        "\n",
        "result = 0\n",
        "for i in range(power-1, -1, -1):\n",
        "  if 2**i + result > num:\n",
        "    print(2**i,'-> 0')\n",
        "  else:\n",
        "    print(2**i,'-> 1')\n",
        "    result = 2**i + result"
      ],
      "metadata": {
        "colab": {
          "base_uri": "https://localhost:8080/"
        },
        "id": "_V9q6GXLAhik",
        "outputId": "b69dab80-9aab-4237-ebb2-c060f7ed67b5"
      },
      "execution_count": null,
      "outputs": [
        {
          "output_type": "stream",
          "name": "stdout",
          "text": [
            "Enter a number : 36\n",
            "32 -> 1\n",
            "16 -> 0\n",
            "8 -> 0\n",
            "4 -> 1\n",
            "2 -> 0\n",
            "1 -> 0\n"
          ]
        }
      ]
    },
    {
      "cell_type": "code",
      "source": [
        "n = int(input('Enter n : '))\n",
        "result = ''\n",
        "while n > 0:\n",
        "  result = str(n%2) + result\n",
        "  n = n // 2\n",
        "print(result)"
      ],
      "metadata": {
        "colab": {
          "base_uri": "https://localhost:8080/"
        },
        "id": "dFSaiKLv18Yv",
        "outputId": "9f431149-09f0-4c68-a0f0-23a030303683"
      },
      "execution_count": null,
      "outputs": [
        {
          "output_type": "stream",
          "name": "stdout",
          "text": [
            "Enter n : 23\n",
            "10111\n"
          ]
        }
      ]
    },
    {
      "cell_type": "markdown",
      "source": [
        "Q. Write a program that will take 2 numbers as input and prints the LCM and HCF of those 2 numbers."
      ],
      "metadata": {
        "id": "WeHMdUMt1tBu"
      }
    },
    {
      "cell_type": "code",
      "source": [
        "num1 = int(input('Enter num 1 : '))\n",
        "num2 = int(input('Enter num 2 : '))\n",
        "\n",
        "if num1 > num2:\n",
        "  greater = num1\n",
        "else:\n",
        "  greater = num2\n",
        "\n",
        "while True:\n",
        "  if (greater%num1 == 0) and (greater%num2 == 0):\n",
        "    lcm = greater\n",
        "    break\n",
        "  greater += 1\n",
        "print('LCM of {} and {} is {}'.format(num1, num2, lcm))"
      ],
      "metadata": {
        "colab": {
          "base_uri": "https://localhost:8080/"
        },
        "id": "RI5jsdkk3UjT",
        "outputId": "f364666f-1434-4e72-b0c0-423cb7df7854"
      },
      "execution_count": null,
      "outputs": [
        {
          "output_type": "stream",
          "name": "stdout",
          "text": [
            "Enter num 1 : 12\n",
            "Enter num 2 : 14\n",
            "LCM of 12 and 14 is 84\n"
          ]
        }
      ]
    },
    {
      "cell_type": "code",
      "source": [
        "num1 = int(input('Enter num 1 : '))\n",
        "num2 = int(input('Enter num 2 : '))\n",
        "\n",
        "if num1 < num2:\n",
        "  smaller = num1\n",
        "else:\n",
        "  smaller = num2\n",
        "\n",
        "while True:\n",
        "  if (num1%smaller == 0) and (num2%smaller == 0):\n",
        "    hcf = smaller\n",
        "    break\n",
        "  smaller -= 1\n",
        "print('HCF of {} and {} is {}'.format(num1, num2, hcf))"
      ],
      "metadata": {
        "colab": {
          "base_uri": "https://localhost:8080/"
        },
        "id": "Rt_tLQ3v6XXw",
        "outputId": "ff66f001-0244-4aa8-85a4-efcaf3844045"
      },
      "execution_count": null,
      "outputs": [
        {
          "output_type": "stream",
          "name": "stdout",
          "text": [
            "Enter num 1 : 13\n",
            "Enter num 2 : 18\n",
            "HCF of 13 and 18 is 1\n"
          ]
        }
      ]
    },
    {
      "cell_type": "markdown",
      "source": [
        "Q. Given a string create short form of the string from Initial character. Short form should be capitalised."
      ],
      "metadata": {
        "id": "b398Zdb-7pn-"
      }
    },
    {
      "cell_type": "code",
      "source": [
        "string = input('Enter a string : ')\n",
        "result = ''\n",
        "for i in string.split():\n",
        "  result += i[0].upper()\n",
        "print('Short form :', result)"
      ],
      "metadata": {
        "colab": {
          "base_uri": "https://localhost:8080/"
        },
        "id": "aaVB6yeM7Axw",
        "outputId": "4acc487d-1d88-4a6a-b268-b4a6562af068"
      },
      "execution_count": null,
      "outputs": [
        {
          "output_type": "stream",
          "name": "stdout",
          "text": [
            "Enter a string : Central Processing Unit\n",
            "Short form : CPU\n"
          ]
        }
      ]
    },
    {
      "cell_type": "markdown",
      "source": [
        "Q. Append second string in the middle of first string\n",
        "```\n",
        "input - Artificial Intelligence\n",
        "output - ArtifIntelligenceicial\n",
        "```"
      ],
      "metadata": {
        "id": "wfNfxBGDPY5g"
      }
    },
    {
      "cell_type": "code",
      "source": [
        "s1 = input('Enter string 1 : ')\n",
        "s2 = input('Enter string 2 : ')\n",
        "result = ''\n",
        "for i in range(len(s1)):\n",
        "  if i == len(s1)//2:\n",
        "    result = result + s2\n",
        "  result = result + s1[i]\n",
        "print(result)"
      ],
      "metadata": {
        "id": "4zag3GcZ8ZiJ",
        "colab": {
          "base_uri": "https://localhost:8080/"
        },
        "outputId": "4217232c-7181-4b00-a74f-02825073f369"
      },
      "execution_count": 4,
      "outputs": [
        {
          "output_type": "stream",
          "name": "stdout",
          "text": [
            "Enter string 1 : artificial\n",
            "Enter string 2 : intelligence\n",
            "artifintelligenceicial\n"
          ]
        }
      ]
    },
    {
      "cell_type": "markdown",
      "source": [
        "Q. Given string contains a combination of the lower and upper case letters. Write a program to arrange the characters of a string so that all lowercase letters should come first."
      ],
      "metadata": {
        "id": "pevWJih2RLxI"
      }
    },
    {
      "cell_type": "code",
      "source": [
        "# input - ArtiFIciaL, output - rticiaAFIL\n",
        "s = input('Enter a string : ')\n",
        "lower = ''\n",
        "upper = ''\n",
        "\n",
        "for i in s:\n",
        "  if i.islower():\n",
        "    lower += i\n",
        "  else:\n",
        "    upper += i\n",
        "\n",
        "print(lower + upper)"
      ],
      "metadata": {
        "colab": {
          "base_uri": "https://localhost:8080/"
        },
        "id": "aKiLPP2ZQaJO",
        "outputId": "aab0c858-83b0-4de6-ff05-a0b64719626d"
      },
      "execution_count": 6,
      "outputs": [
        {
          "output_type": "stream",
          "name": "stdout",
          "text": [
            "Enter a string : ArtiFIciaL\n",
            "rticiaAFIL\n"
          ]
        }
      ]
    },
    {
      "cell_type": "markdown",
      "source": [
        "Q. Take a alphanumeric string input and print the sum and average of the digits that appear in the string, ignoring all other characters."
      ],
      "metadata": {
        "id": "9ACX1qXaSo55"
      }
    },
    {
      "cell_type": "code",
      "source": [
        "alphanum = input('Enter an alphanumeric string : ')\n",
        "count = 0\n",
        "s = 0\n",
        "\n",
        "for i in alphanum:\n",
        "  if i.isdigit():\n",
        "    s += int(i)\n",
        "    count += 1\n",
        "\n",
        "print(s)\n",
        "print(s/count)"
      ],
      "metadata": {
        "colab": {
          "base_uri": "https://localhost:8080/"
        },
        "id": "VzXknhBvSZgF",
        "outputId": "67da7b88-ffd0-413c-d50c-2a3c5c1d0d4f"
      },
      "execution_count": 8,
      "outputs": [
        {
          "output_type": "stream",
          "name": "stdout",
          "text": [
            "Enter an alphanumeric string : jue412fsd780\n",
            "22\n",
            "3.6666666666666665\n"
          ]
        }
      ]
    },
    {
      "cell_type": "markdown",
      "source": [
        "Q. Removal of all characters from a string except integers."
      ],
      "metadata": {
        "id": "fEczU5b2Wm9d"
      }
    },
    {
      "cell_type": "code",
      "source": [
        "s = 'I am 27 years and 5 months old'\n",
        "result = ''\n",
        "\n",
        "for i in s:\n",
        "  if i.isdigit():\n",
        "    result += i\n",
        "\n",
        "print(result)"
      ],
      "metadata": {
        "colab": {
          "base_uri": "https://localhost:8080/"
        },
        "id": "xSbVxGM-WWCr",
        "outputId": "eeb651d3-3b31-416e-bc2c-6151848f80e7"
      },
      "execution_count": 9,
      "outputs": [
        {
          "output_type": "stream",
          "name": "stdout",
          "text": [
            "275\n"
          ]
        }
      ]
    },
    {
      "cell_type": "markdown",
      "source": [
        "Q. Given a string. the task is to check if the string is symmetrical or not. A string is said to be symmetrical if both the halves of the string are the same."
      ],
      "metadata": {
        "id": "20P0mk_WXGhj"
      }
    },
    {
      "cell_type": "code",
      "source": [
        "# racecar -> not symmetric, noon -> not symmetric,\n",
        "s = input('Enter a string : ')\n",
        "l = len(s)\n",
        "mid = l//2\n",
        "\n",
        "if l%2 == 0:\n",
        "  s1 = s[:mid]\n",
        "  s2 = s[mid:]\n",
        "else:\n",
        "  s1 = s[:mid+1]\n",
        "  s2 = s[mid:]\n",
        "\n",
        "if s1 == s2:\n",
        "  print('symmetric')\n",
        "else:\n",
        "  print('not symmetric')"
      ],
      "metadata": {
        "colab": {
          "base_uri": "https://localhost:8080/"
        },
        "id": "UDSVwsilXC_8",
        "outputId": "8a2fe928-36f1-4b5d-db08-a6ae030b147e"
      },
      "execution_count": 26,
      "outputs": [
        {
          "output_type": "stream",
          "name": "stdout",
          "text": [
            "Enter a string : heehee\n",
            "symmetric\n"
          ]
        }
      ]
    },
    {
      "cell_type": "markdown",
      "source": [
        "Q. We are given a string and we need to reverse words of a given string."
      ],
      "metadata": {
        "id": "Bt-xQmfWfTTv"
      }
    },
    {
      "cell_type": "code",
      "source": [
        "s = input('Enter a string : ')\n",
        "result = ''\n",
        "w = ''\n",
        "for i in s:\n",
        "  if i == ' ':\n",
        "    result = i + w + result\n",
        "    w = ''\n",
        "  else:\n",
        "    w += i\n",
        "result = w + result\n",
        "print(result)"
      ],
      "metadata": {
        "colab": {
          "base_uri": "https://localhost:8080/"
        },
        "id": "ywxXSKA_dFRs",
        "outputId": "924bbfb4-7ab1-4ff2-fa72-0eeabb86f944"
      },
      "execution_count": 29,
      "outputs": [
        {
          "output_type": "stream",
          "name": "stdout",
          "text": [
            "Enter a string : my name is ravi\n",
            "ravi is name my\n"
          ]
        }
      ]
    },
    {
      "cell_type": "markdown",
      "source": [
        "Q. Given two sentences as strings A and B. The task is to return a list of all uncommon words. A word is uncommon if it appears exactly once in any one of the sentences, and does not appear in the other sentence. Note: A sentence is a string of space-separated words. Each word consists only of lowercase letters."
      ],
      "metadata": {
        "id": "x1yAaFsohcDk"
      }
    },
    {
      "cell_type": "code",
      "source": [
        "str1 = input('Enter a string 1 : ')\n",
        "str2 = input('Enter a string 2 : ')\n",
        "\n",
        "for i in str1.split():\n",
        "  if i not in str2:\n",
        "    print(i)\n",
        "for j in str2.split():\n",
        "  if j not in str1:\n",
        "    print(j)"
      ],
      "metadata": {
        "colab": {
          "base_uri": "https://localhost:8080/"
        },
        "id": "5xyZv2CHgZH6",
        "outputId": "f38cda60-8704-46b9-f43a-446c7da2d8e9"
      },
      "execution_count": 31,
      "outputs": [
        {
          "output_type": "stream",
          "name": "stdout",
          "text": [
            "Enter a string 1 : apple mango banana\n",
            "Enter a string 2 : banana guava mango\n",
            "apple\n",
            "guava\n"
          ]
        }
      ]
    },
    {
      "cell_type": "markdown",
      "source": [
        "Q. Find a location of a word in a given sentence. Don't use index/find functions."
      ],
      "metadata": {
        "id": "GNQMXx85pFxg"
      }
    },
    {
      "cell_type": "code",
      "source": [
        "s = input('Enter a sentence : ')\n",
        "w = input('Enter a word : ')\n",
        "count = 0\n",
        "for i in s.split():\n",
        "  count += 1\n",
        "  if i == w:\n",
        "    print('found')\n",
        "    break\n",
        "else:\n",
        "  print('not found')"
      ],
      "metadata": {
        "colab": {
          "base_uri": "https://localhost:8080/"
        },
        "id": "XFJokcr2inbC",
        "outputId": "0f28999f-95a5-4edc-ac33-eb8730a4755c"
      },
      "execution_count": 33,
      "outputs": [
        {
          "output_type": "stream",
          "name": "stdout",
          "text": [
            "Enter a sentence : go to the market\n",
            "Enter a word : school\n",
            "not found\n"
          ]
        }
      ]
    },
    {
      "cell_type": "markdown",
      "source": [
        "Q. Write a program that can remove all the duplicate characters from a string. User will provide the input."
      ],
      "metadata": {
        "id": "cqp95VKYss4c"
      }
    },
    {
      "cell_type": "code",
      "source": [
        "s = 'aaabbcddddefff'\n",
        "result = ''\n",
        "for i in s:\n",
        "  if i not in result:\n",
        "    result += i\n",
        "\n",
        "print(result)"
      ],
      "metadata": {
        "colab": {
          "base_uri": "https://localhost:8080/"
        },
        "id": "swWAUd4prwLJ",
        "outputId": "e3865a17-3be2-44c7-c633-58fa8eb25bda"
      },
      "execution_count": 34,
      "outputs": [
        {
          "output_type": "stream",
          "name": "stdout",
          "text": [
            "abcdef\n"
          ]
        }
      ]
    }
  ]
}