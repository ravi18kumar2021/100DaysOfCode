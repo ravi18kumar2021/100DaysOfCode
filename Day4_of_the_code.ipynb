{
  "nbformat": 4,
  "nbformat_minor": 0,
  "metadata": {
    "colab": {
      "provenance": [],
      "authorship_tag": "ABX9TyN1Z1b5cHIi2b0+h4FHDKAA",
      "include_colab_link": true
    },
    "kernelspec": {
      "name": "python3",
      "display_name": "Python 3"
    },
    "language_info": {
      "name": "python"
    }
  },
  "cells": [
    {
      "cell_type": "markdown",
      "metadata": {
        "id": "view-in-github",
        "colab_type": "text"
      },
      "source": [
        "<a href=\"https://colab.research.google.com/github/ravi18kumar2021/100DaysOfCode/blob/main/Day4_of_the_code.ipynb\" target=\"_parent\"><img src=\"https://colab.research.google.com/assets/colab-badge.svg\" alt=\"Open In Colab\"/></a>"
      ]
    },
    {
      "cell_type": "markdown",
      "source": [
        "Q. Write a program to add two lists index-wise. Create a new list that contains the 0th index item from both the list, then the 1st index item, and so on till the last element. any leftover items will get added at the end of the new list."
      ],
      "metadata": {
        "id": "WgeWxPPwFJsL"
      }
    },
    {
      "cell_type": "code",
      "execution_count": null,
      "metadata": {
        "id": "jmD6EyZYDo-9"
      },
      "outputs": [],
      "source": [
        "list1 = ['M', 'na', 'i', 'Ra']\n",
        "list2 = ['y', 'me', 's', 'vi']"
      ]
    },
    {
      "cell_type": "code",
      "source": [
        "result = []\n",
        "if len(list1) > len(list2):\n",
        "  for i in range(len(list2)):\n",
        "    result.append([list1[i], list2[i]])\n",
        "  result.append(list1[len(list2):])\n",
        "elif len(list1) < len(list2):\n",
        "  for j in range(len(list1)):\n",
        "    result.append([list1[j], list2[j]])\n",
        "  result.append(list2[len(list1):])\n",
        "else:\n",
        "  for k in range(len(list1)):\n",
        "    result.append([list1[k], list2[k]])\n",
        "result"
      ],
      "metadata": {
        "colab": {
          "base_uri": "https://localhost:8080/"
        },
        "id": "0CjKLsHZFPYQ",
        "outputId": "5032943b-4328-457a-fa3b-f9e216f73aa5"
      },
      "execution_count": null,
      "outputs": [
        {
          "output_type": "execute_result",
          "data": {
            "text/plain": [
              "[['M', 'y'], ['na', 'me'], ['i', 's'], ['Ra', 'vi']]"
            ]
          },
          "metadata": {},
          "execution_count": 4
        }
      ]
    },
    {
      "cell_type": "markdown",
      "source": [
        "Q. Write a program to add item 7000 after 6000 in the following Python List.\n",
        "```\n",
        "list1 = [10, 20, [300, 400, [5000, 6000], 500], 30, 40]\n",
        "```"
      ],
      "metadata": {
        "id": "jvQ1TZXoHfAe"
      }
    },
    {
      "cell_type": "code",
      "source": [
        "list1 = [10, 20, [300, 400, [5000, 6000], 500], 30, 40]\n",
        "list1[2]"
      ],
      "metadata": {
        "colab": {
          "base_uri": "https://localhost:8080/"
        },
        "id": "MFvnsDalG_kA",
        "outputId": "ded18bc6-570d-4c36-dc37-3f0fa55d8471"
      },
      "execution_count": null,
      "outputs": [
        {
          "output_type": "execute_result",
          "data": {
            "text/plain": [
              "[300, 400, [5000, 6000], 500]"
            ]
          },
          "metadata": {},
          "execution_count": 6
        }
      ]
    },
    {
      "cell_type": "code",
      "source": [
        "list1[2][2]"
      ],
      "metadata": {
        "colab": {
          "base_uri": "https://localhost:8080/"
        },
        "id": "pneBTbGuHvrk",
        "outputId": "3c33cb92-4fcc-4976-e5c5-973d44dc41f4"
      },
      "execution_count": null,
      "outputs": [
        {
          "output_type": "execute_result",
          "data": {
            "text/plain": [
              "[5000, 6000]"
            ]
          },
          "metadata": {},
          "execution_count": 7
        }
      ]
    },
    {
      "cell_type": "code",
      "source": [
        "list1[2][2].append(7000)"
      ],
      "metadata": {
        "id": "GqGAwKfaH5Zf"
      },
      "execution_count": null,
      "outputs": []
    },
    {
      "cell_type": "code",
      "source": [
        "list1[2][2]"
      ],
      "metadata": {
        "colab": {
          "base_uri": "https://localhost:8080/"
        },
        "id": "thIH8bn7H_fn",
        "outputId": "ebb48f43-8fb0-473b-c8d2-009b0a51c25f"
      },
      "execution_count": null,
      "outputs": [
        {
          "output_type": "execute_result",
          "data": {
            "text/plain": [
              "[5000, 6000, 7000]"
            ]
          },
          "metadata": {},
          "execution_count": 9
        }
      ]
    },
    {
      "cell_type": "code",
      "source": [
        "list1"
      ],
      "metadata": {
        "colab": {
          "base_uri": "https://localhost:8080/"
        },
        "id": "wa2iLcPkIBKp",
        "outputId": "8ee8fc2a-a3d4-4f38-f331-ef09705714f7"
      },
      "execution_count": null,
      "outputs": [
        {
          "output_type": "execute_result",
          "data": {
            "text/plain": [
              "[10, 20, [300, 400, [5000, 6000, 7000], 500], 30, 40]"
            ]
          },
          "metadata": {},
          "execution_count": 10
        }
      ]
    },
    {
      "cell_type": "markdown",
      "source": [
        "Q. Suppose you are given a list of candy and another list of same size representing no of items of respective candy.\n",
        "\n",
        "i.e -\n",
        "```\n",
        "candy_list = ['Jelly Belly','Kit Kat','Double Bubble','Milky Way','Three Musketeers']\n",
        "no_of_items = [10,20,34,74,32]\n",
        "```"
      ],
      "metadata": {
        "id": "wr4FbtNkIZYL"
      }
    },
    {
      "cell_type": "code",
      "source": [
        "candy_list = ['Jelly Belly','Kit Kat','Double Bubble','Milky Way','Three Musketeers']\n",
        "no_of_items = [10,20,34,74,32]"
      ],
      "metadata": {
        "id": "_NiGsw8pICTX"
      },
      "execution_count": null,
      "outputs": []
    },
    {
      "cell_type": "code",
      "source": [
        "for i, j in zip(candy_list, no_of_items):\n",
        "  print(i, '->', j)"
      ],
      "metadata": {
        "colab": {
          "base_uri": "https://localhost:8080/"
        },
        "id": "wp1XWRzNIhXO",
        "outputId": "6fbfa5de-07c7-48a2-fe51-a343373d6fec"
      },
      "execution_count": null,
      "outputs": [
        {
          "output_type": "stream",
          "name": "stdout",
          "text": [
            "Jelly Belly -> 10\n",
            "Kit Kat -> 20\n",
            "Double Bubble -> 34\n",
            "Milky Way -> 74\n",
            "Three Musketeers -> 32\n"
          ]
        }
      ]
    },
    {
      "cell_type": "markdown",
      "source": [
        "Q. Write a program to print a list after performing running sum on it."
      ],
      "metadata": {
        "id": "oUTRlhfSI91z"
      }
    },
    {
      "cell_type": "code",
      "source": [
        "list1 = [1,2,3,4,5,6]\n",
        "result = 0\n",
        "list2 = []\n",
        "for i in list1:\n",
        "  result += i\n",
        "  list2.append(result)\n",
        "list2"
      ],
      "metadata": {
        "colab": {
          "base_uri": "https://localhost:8080/"
        },
        "id": "4b4EUzF-I3h_",
        "outputId": "0b6eaf8e-dfba-4323-ef3d-ff2d8363a326"
      },
      "execution_count": null,
      "outputs": [
        {
          "output_type": "execute_result",
          "data": {
            "text/plain": [
              "[1, 3, 6, 10, 15, 21]"
            ]
          },
          "metadata": {},
          "execution_count": 13
        }
      ]
    },
    {
      "cell_type": "markdown",
      "source": [
        "Q. You are given a list of integers. You are asked to make a list by running through elements of the list by adding all elements greater and itself."
      ],
      "metadata": {
        "id": "Q5pQ0hBNvolQ"
      }
    },
    {
      "cell_type": "code",
      "source": [
        "# [3, 1, 6, 4, 2] -> [3+6+4, 1+3+6+4+2, 6, 4+6, 2+3+6+4] -> [13, 16, 6, 10, 15]\n",
        "list1 = [3, 1, 6, 4, 2]\n",
        "list2 = []\n",
        "\n",
        "for i in list1:\n",
        "  s = 0\n",
        "  for j in list1:\n",
        "    if i <= j:\n",
        "      s += j\n",
        "  list2.append(s)\n",
        "print(list2)"
      ],
      "metadata": {
        "id": "quQbHanYJT7t",
        "colab": {
          "base_uri": "https://localhost:8080/"
        },
        "outputId": "2ee762ea-3005-4a91-8f34-5e1c1326bd1e"
      },
      "execution_count": 2,
      "outputs": [
        {
          "output_type": "stream",
          "name": "stdout",
          "text": [
            "[13, 16, 6, 10, 15]\n"
          ]
        }
      ]
    },
    {
      "cell_type": "markdown",
      "source": [
        "Q. Find list of common unique items from two list. and show in increasing order."
      ],
      "metadata": {
        "id": "GSc24we9xyB-"
      }
    },
    {
      "cell_type": "code",
      "source": [
        "n1 = [6, 3, 8, 1]\n",
        "n2 = [3, 5, 1, 2]\n",
        "common = []\n",
        "for i in n1:\n",
        "  if i in n2 and i not in common:\n",
        "    common.append(i)\n",
        "print(sorted(common))"
      ],
      "metadata": {
        "colab": {
          "base_uri": "https://localhost:8080/"
        },
        "id": "WMGZRMP2w3Hy",
        "outputId": "902ebb11-fdad-47c9-b29b-b1f98e6b9122"
      },
      "execution_count": 5,
      "outputs": [
        {
          "output_type": "stream",
          "name": "stdout",
          "text": [
            "[1, 3]\n"
          ]
        }
      ]
    },
    {
      "cell_type": "markdown",
      "source": [
        "Q. Sort a list of alphanumeric strings based on product value of numeric character in it. If in any string there is no numeric character take it's product value as 1."
      ],
      "metadata": {
        "id": "2fv4D8h2yzoP"
      }
    },
    {
      "cell_type": "code",
      "source": [
        "list1 = ['e5t2', '1g4i', 'boy', 'uy810', '42', '1', '3xh1']\n",
        "list2 = []\n",
        "for i in list1:\n",
        "  product = 1\n",
        "  for j in i:\n",
        "    if j.isdigit():\n",
        "      product *= int(j)\n",
        "  list2.append(product)\n",
        "[j for i, j in sorted(zip(list2, list1))]"
      ],
      "metadata": {
        "colab": {
          "base_uri": "https://localhost:8080/"
        },
        "id": "tWRcEazmyfDB",
        "outputId": "a9876820-ff73-46b2-af5d-05267446157c"
      },
      "execution_count": 12,
      "outputs": [
        {
          "output_type": "execute_result",
          "data": {
            "text/plain": [
              "['uy810', '1', 'boy', '3xh1', '1g4i', '42', 'e5t2']"
            ]
          },
          "metadata": {},
          "execution_count": 12
        }
      ]
    },
    {
      "cell_type": "markdown",
      "source": [
        "Q. Split String of list on a character.\n",
        "```\n",
        "input - ['This', 'is', 'python', 'programming']\n",
        "character - 'i'\n",
        "output - ['Th', 's', '', 's', 'python', 'programm', 'ng']\n",
        "```"
      ],
      "metadata": {
        "id": "N0tSUvWy3-BK"
      }
    },
    {
      "cell_type": "code",
      "source": [
        "list1 = ['This', 'is', 'python', 'programming']\n",
        "character = 'i'\n",
        "list2 = character.join(list1).split(character)\n",
        "print(list2)"
      ],
      "metadata": {
        "colab": {
          "base_uri": "https://localhost:8080/"
        },
        "id": "Qvc7kZeC2ujI",
        "outputId": "88afb814-fc5d-4db1-96dd-03333dc59882"
      },
      "execution_count": 14,
      "outputs": [
        {
          "output_type": "stream",
          "name": "stdout",
          "text": [
            "['Th', 's', '', 's', 'python', 'programm', 'ng']\n"
          ]
        }
      ]
    },
    {
      "cell_type": "markdown",
      "source": [
        "Q. Convert Character Matrix to single String using string comprehension."
      ],
      "metadata": {
        "id": "TVqi8DRk5Xxb"
      }
    },
    {
      "cell_type": "code",
      "source": [
        "lst = [['m', 'y'], ['n', 'a', 'm', 'e'], ['i', 's'], ['r', 'a', 'v', 'i']]\n",
        "result = ''\n",
        "for i in lst:\n",
        "  result += ''.join(i) + ' '\n",
        "print(result)"
      ],
      "metadata": {
        "colab": {
          "base_uri": "https://localhost:8080/"
        },
        "id": "tBr6tYcm4s-4",
        "outputId": "66b058bf-ba21-46b8-8b34-16465c5ea3aa"
      },
      "execution_count": 15,
      "outputs": [
        {
          "output_type": "stream",
          "name": "stdout",
          "text": [
            "my name is ravi \n"
          ]
        }
      ]
    },
    {
      "cell_type": "markdown",
      "source": [
        "Q. Add Space between Potential Words.\n",
        "```\n",
        "input - ['The', 'soundOf', 'waterAnd', 'air']\n",
        "output - ['The', 'sound Of', 'water And', 'air']\n",
        "```\n"
      ],
      "metadata": {
        "id": "hUjbRwZz7RXe"
      }
    },
    {
      "cell_type": "code",
      "source": [
        "list1 = ['The', 'soundOf', 'waterAnd', 'air']\n",
        "list2 = []\n",
        "for i in list1:\n",
        "  temp = ''\n",
        "  for j in i:\n",
        "    if j.isupper():\n",
        "      temp += ' '\n",
        "    temp += j\n",
        "  list2.append(temp)\n",
        "print(list2)"
      ],
      "metadata": {
        "colab": {
          "base_uri": "https://localhost:8080/"
        },
        "id": "SIkKPj2m7Ihf",
        "outputId": "be654d21-06cf-4b1c-918a-ff0160f8d88d"
      },
      "execution_count": 16,
      "outputs": [
        {
          "output_type": "stream",
          "name": "stdout",
          "text": [
            "[' The', 'sound Of', 'water And', 'air']\n"
          ]
        }
      ]
    },
    {
      "cell_type": "markdown",
      "source": [
        "Q. Write a program that can perform union operation on 2 lists."
      ],
      "metadata": {
        "id": "Bw8yOP3C82bU"
      }
    },
    {
      "cell_type": "code",
      "source": [
        "list1 = [3, 5, 1, 7]\n",
        "list2 = [2, 3, 6, 1]\n",
        "union = []\n",
        "\n",
        "for i in (list1 + list2):\n",
        "  if i not in union:\n",
        "    union.append(i)\n",
        "print(union)"
      ],
      "metadata": {
        "colab": {
          "base_uri": "https://localhost:8080/"
        },
        "id": "9fpy2J8l8pvH",
        "outputId": "68076a7c-9891-467e-8ed9-7a660acdd37e"
      },
      "execution_count": 17,
      "outputs": [
        {
          "output_type": "stream",
          "name": "stdout",
          "text": [
            "[3, 5, 1, 7, 2, 6]\n"
          ]
        }
      ]
    },
    {
      "cell_type": "markdown",
      "source": [
        "Q. Write a program that can find the max number of each row of a matrix."
      ],
      "metadata": {
        "id": "YELQUN1r9WJj"
      }
    },
    {
      "cell_type": "code",
      "source": [
        "list1 = [[2, 6, 1], [3, 4, 2], [1, 7, 3]]\n",
        "[max(i) for i in list1]"
      ],
      "metadata": {
        "colab": {
          "base_uri": "https://localhost:8080/"
        },
        "id": "w5NiO6_X9ODU",
        "outputId": "1ea91c93-ca0d-4f9d-8674-7e953226a901"
      },
      "execution_count": 20,
      "outputs": [
        {
          "output_type": "execute_result",
          "data": {
            "text/plain": [
              "[6, 4, 7]"
            ]
          },
          "metadata": {},
          "execution_count": 20
        }
      ]
    },
    {
      "cell_type": "markdown",
      "source": [
        "Q. Write a list comprehension to print the following matrix\n",
        "```\n",
        "[[0, 1, 2], [3, 4, 5], [6, 7, 8]]\n",
        "```"
      ],
      "metadata": {
        "id": "Q7_mxH_399ra"
      }
    },
    {
      "cell_type": "code",
      "source": [
        "[[j + i*3 for j in range(3)] for i in range(3)]"
      ],
      "metadata": {
        "colab": {
          "base_uri": "https://localhost:8080/"
        },
        "id": "bLiB2Y5r9v99",
        "outputId": "aa7806f4-8219-4f61-f168-c58b4e997bcd"
      },
      "execution_count": 27,
      "outputs": [
        {
          "output_type": "execute_result",
          "data": {
            "text/plain": [
              "[[0, 1, 2], [3, 4, 5], [6, 7, 8]]"
            ]
          },
          "metadata": {},
          "execution_count": 27
        }
      ]
    },
    {
      "cell_type": "markdown",
      "source": [
        "Q. Write a list comprehension that can transpose a given matrix\n",
        "```\n",
        "input - [\n",
        "[1,2,3],\n",
        "[4,5,6],\n",
        "[7,8,9]\n",
        "]\n",
        "\n",
        "output - [\n",
        "[1, 4, 7]\n",
        "[2, 5, 8]\n",
        "[3, 6, 9]\n",
        "]\n",
        "```"
      ],
      "metadata": {
        "id": "7V-GKKZG_E2E"
      }
    },
    {
      "cell_type": "code",
      "source": [
        "matrix = [\n",
        "    [1, 2, 3],\n",
        "    [4, 5, 6],\n",
        "    [7, 8, 9]\n",
        "]\n",
        "[[j[i] for j in matrix] for i in range(len(matrix))]"
      ],
      "metadata": {
        "colab": {
          "base_uri": "https://localhost:8080/"
        },
        "id": "P5T1XCPs-iI9",
        "outputId": "ab50da9c-d340-4cf5-9f5e-a66fdb835dc6"
      },
      "execution_count": 28,
      "outputs": [
        {
          "output_type": "execute_result",
          "data": {
            "text/plain": [
              "[[1, 4, 7], [2, 5, 8], [3, 6, 9]]"
            ]
          },
          "metadata": {},
          "execution_count": 28
        }
      ]
    },
    {
      "cell_type": "markdown",
      "source": [
        "Q. Write a list comprehension that can flatten a nested list.\n",
        "```\n",
        "Input - [\n",
        "[1,2,3],\n",
        "[4,5,6],\n",
        "[7,8,9]\n",
        "]\n",
        "\n",
        "Output:\n",
        "[1, 2, 3, 4, 5, 6, 7, 8, 9]\n",
        "```"
      ],
      "metadata": {
        "id": "9VWayc6JBwMW"
      }
    },
    {
      "cell_type": "code",
      "source": [
        "matrix = [\n",
        "    [1, 2, 3],\n",
        "    [4, 5, 6],\n",
        "    [7, 8, 9]\n",
        "]\n",
        "\n",
        "[i for row in matrix for i in row]"
      ],
      "metadata": {
        "colab": {
          "base_uri": "https://localhost:8080/"
        },
        "id": "qbSQ5se-BfHD",
        "outputId": "f5a7b142-2fc4-4058-dff7-c92b05f15602"
      },
      "execution_count": 30,
      "outputs": [
        {
          "output_type": "execute_result",
          "data": {
            "text/plain": [
              "[1, 2, 3, 4, 5, 6, 7, 8, 9]"
            ]
          },
          "metadata": {},
          "execution_count": 30
        }
      ]
    },
    {
      "cell_type": "code",
      "source": [],
      "metadata": {
        "id": "srXCs4YJCJPe"
      },
      "execution_count": null,
      "outputs": []
    }
  ]
}