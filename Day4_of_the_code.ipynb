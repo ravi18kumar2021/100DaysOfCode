{
  "nbformat": 4,
  "nbformat_minor": 0,
  "metadata": {
    "colab": {
      "provenance": [],
      "authorship_tag": "ABX9TyPx7MGYZ5wr5UoO9LOdpr6T",
      "include_colab_link": true
    },
    "kernelspec": {
      "name": "python3",
      "display_name": "Python 3"
    },
    "language_info": {
      "name": "python"
    }
  },
  "cells": [
    {
      "cell_type": "markdown",
      "metadata": {
        "id": "view-in-github",
        "colab_type": "text"
      },
      "source": [
        "<a href=\"https://colab.research.google.com/github/ravi18kumar2021/100DaysOfCode/blob/main/Day4_of_the_code.ipynb\" target=\"_parent\"><img src=\"https://colab.research.google.com/assets/colab-badge.svg\" alt=\"Open In Colab\"/></a>"
      ]
    },
    {
      "cell_type": "markdown",
      "source": [
        "Q. Write a program to add two lists index-wise. Create a new list that contains the 0th index item from both the list, then the 1st index item, and so on till the last element. any leftover items will get added at the end of the new list."
      ],
      "metadata": {
        "id": "WgeWxPPwFJsL"
      }
    },
    {
      "cell_type": "code",
      "execution_count": 1,
      "metadata": {
        "id": "jmD6EyZYDo-9"
      },
      "outputs": [],
      "source": [
        "list1 = ['M', 'na', 'i', 'Ra']\n",
        "list2 = ['y', 'me', 's', 'vi']"
      ]
    },
    {
      "cell_type": "code",
      "source": [
        "result = []\n",
        "if len(list1) > len(list2):\n",
        "  for i in range(len(list2)):\n",
        "    result.append([list1[i], list2[i]])\n",
        "  result.append(list1[len(list2):])\n",
        "elif len(list1) < len(list2):\n",
        "  for j in range(len(list1)):\n",
        "    result.append([list1[j], list2[j]])\n",
        "  result.append(list2[len(list1):])\n",
        "else:\n",
        "  for k in range(len(list1)):\n",
        "    result.append([list1[k], list2[k]])\n",
        "result"
      ],
      "metadata": {
        "colab": {
          "base_uri": "https://localhost:8080/"
        },
        "id": "0CjKLsHZFPYQ",
        "outputId": "5032943b-4328-457a-fa3b-f9e216f73aa5"
      },
      "execution_count": 4,
      "outputs": [
        {
          "output_type": "execute_result",
          "data": {
            "text/plain": [
              "[['M', 'y'], ['na', 'me'], ['i', 's'], ['Ra', 'vi']]"
            ]
          },
          "metadata": {},
          "execution_count": 4
        }
      ]
    },
    {
      "cell_type": "markdown",
      "source": [
        "Q. Write a program to add item 7000 after 6000 in the following Python List.\n",
        "```\n",
        "list1 = [10, 20, [300, 400, [5000, 6000], 500], 30, 40]\n",
        "```"
      ],
      "metadata": {
        "id": "jvQ1TZXoHfAe"
      }
    },
    {
      "cell_type": "code",
      "source": [
        "list1 = [10, 20, [300, 400, [5000, 6000], 500], 30, 40]\n",
        "list1[2]"
      ],
      "metadata": {
        "colab": {
          "base_uri": "https://localhost:8080/"
        },
        "id": "MFvnsDalG_kA",
        "outputId": "ded18bc6-570d-4c36-dc37-3f0fa55d8471"
      },
      "execution_count": 6,
      "outputs": [
        {
          "output_type": "execute_result",
          "data": {
            "text/plain": [
              "[300, 400, [5000, 6000], 500]"
            ]
          },
          "metadata": {},
          "execution_count": 6
        }
      ]
    },
    {
      "cell_type": "code",
      "source": [
        "list1[2][2]"
      ],
      "metadata": {
        "colab": {
          "base_uri": "https://localhost:8080/"
        },
        "id": "pneBTbGuHvrk",
        "outputId": "3c33cb92-4fcc-4976-e5c5-973d44dc41f4"
      },
      "execution_count": 7,
      "outputs": [
        {
          "output_type": "execute_result",
          "data": {
            "text/plain": [
              "[5000, 6000]"
            ]
          },
          "metadata": {},
          "execution_count": 7
        }
      ]
    },
    {
      "cell_type": "code",
      "source": [
        "list1[2][2].append(7000)"
      ],
      "metadata": {
        "id": "GqGAwKfaH5Zf"
      },
      "execution_count": 8,
      "outputs": []
    },
    {
      "cell_type": "code",
      "source": [
        "list1[2][2]"
      ],
      "metadata": {
        "colab": {
          "base_uri": "https://localhost:8080/"
        },
        "id": "thIH8bn7H_fn",
        "outputId": "ebb48f43-8fb0-473b-c8d2-009b0a51c25f"
      },
      "execution_count": 9,
      "outputs": [
        {
          "output_type": "execute_result",
          "data": {
            "text/plain": [
              "[5000, 6000, 7000]"
            ]
          },
          "metadata": {},
          "execution_count": 9
        }
      ]
    },
    {
      "cell_type": "code",
      "source": [
        "list1"
      ],
      "metadata": {
        "colab": {
          "base_uri": "https://localhost:8080/"
        },
        "id": "wa2iLcPkIBKp",
        "outputId": "8ee8fc2a-a3d4-4f38-f331-ef09705714f7"
      },
      "execution_count": 10,
      "outputs": [
        {
          "output_type": "execute_result",
          "data": {
            "text/plain": [
              "[10, 20, [300, 400, [5000, 6000, 7000], 500], 30, 40]"
            ]
          },
          "metadata": {},
          "execution_count": 10
        }
      ]
    },
    {
      "cell_type": "markdown",
      "source": [
        "Q. Suppose you are given a list of candy and another list of same size representing no of items of respective candy.\n",
        "\n",
        "i.e -\n",
        "```\n",
        "candy_list = ['Jelly Belly','Kit Kat','Double Bubble','Milky Way','Three Musketeers']\n",
        "no_of_items = [10,20,34,74,32]\n",
        "```"
      ],
      "metadata": {
        "id": "wr4FbtNkIZYL"
      }
    },
    {
      "cell_type": "code",
      "source": [
        "candy_list = ['Jelly Belly','Kit Kat','Double Bubble','Milky Way','Three Musketeers']\n",
        "no_of_items = [10,20,34,74,32]"
      ],
      "metadata": {
        "id": "_NiGsw8pICTX"
      },
      "execution_count": 11,
      "outputs": []
    },
    {
      "cell_type": "code",
      "source": [
        "for i, j in zip(candy_list, no_of_items):\n",
        "  print(i, '->', j)"
      ],
      "metadata": {
        "colab": {
          "base_uri": "https://localhost:8080/"
        },
        "id": "wp1XWRzNIhXO",
        "outputId": "6fbfa5de-07c7-48a2-fe51-a343373d6fec"
      },
      "execution_count": 12,
      "outputs": [
        {
          "output_type": "stream",
          "name": "stdout",
          "text": [
            "Jelly Belly -> 10\n",
            "Kit Kat -> 20\n",
            "Double Bubble -> 34\n",
            "Milky Way -> 74\n",
            "Three Musketeers -> 32\n"
          ]
        }
      ]
    },
    {
      "cell_type": "markdown",
      "source": [
        "Q. Write a program to print a list after performing running sum on it."
      ],
      "metadata": {
        "id": "oUTRlhfSI91z"
      }
    },
    {
      "cell_type": "code",
      "source": [
        "list1 = [1,2,3,4,5,6]\n",
        "result = 0\n",
        "list2 = []\n",
        "for i in list1:\n",
        "  result += i\n",
        "  list2.append(result)\n",
        "list2"
      ],
      "metadata": {
        "colab": {
          "base_uri": "https://localhost:8080/"
        },
        "id": "4b4EUzF-I3h_",
        "outputId": "0b6eaf8e-dfba-4323-ef3d-ff2d8363a326"
      },
      "execution_count": 13,
      "outputs": [
        {
          "output_type": "execute_result",
          "data": {
            "text/plain": [
              "[1, 3, 6, 10, 15, 21]"
            ]
          },
          "metadata": {},
          "execution_count": 13
        }
      ]
    },
    {
      "cell_type": "code",
      "source": [],
      "metadata": {
        "id": "quQbHanYJT7t"
      },
      "execution_count": null,
      "outputs": []
    }
  ]
}