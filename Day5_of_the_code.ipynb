{
  "nbformat": 4,
  "nbformat_minor": 0,
  "metadata": {
    "colab": {
      "provenance": [],
      "authorship_tag": "ABX9TyNekAyZG/S/VQF9C5kIGo17",
      "include_colab_link": true
    },
    "kernelspec": {
      "name": "python3",
      "display_name": "Python 3"
    },
    "language_info": {
      "name": "python"
    }
  },
  "cells": [
    {
      "cell_type": "markdown",
      "metadata": {
        "id": "view-in-github",
        "colab_type": "text"
      },
      "source": [
        "<a href=\"https://colab.research.google.com/github/ravi18kumar2021/100DaysOfCode/blob/main/Day5_of_the_code.ipynb\" target=\"_parent\"><img src=\"https://colab.research.google.com/assets/colab-badge.svg\" alt=\"Open In Colab\"/></a>"
      ]
    },
    {
      "cell_type": "markdown",
      "source": [
        "##List"
      ],
      "metadata": {
        "id": "6VFdez-o3zsB"
      }
    },
    {
      "cell_type": "markdown",
      "source": [
        "Q. Join Tuples if similar initial element"
      ],
      "metadata": {
        "id": "vG8h5_rfDQyK"
      }
    },
    {
      "cell_type": "markdown",
      "source": [
        "```\n",
        "input - [(5, 6), (5, 2), (5, 8), (3, 5), (4, 7)]\n",
        "output - [(5, 6, 2, 8), (3, 5), (4, 7)]\n",
        "```"
      ],
      "metadata": {
        "id": "Z8C7ENtvwpIG"
      }
    },
    {
      "cell_type": "code",
      "source": [
        "list1 = [(3, 6), (1, 7), (3, 4), (2, 4), (6, 3)]\n",
        "unique = []\n",
        "for i in list1:\n",
        "  if i[0] not in unique:\n",
        "    unique.append(i[0])\n",
        "print(unique)\n",
        "result = []\n",
        "for j in unique:\n",
        "  result.append([j])\n",
        "  for k in list1:\n",
        "    if k[0] == j:\n",
        "      result[-1].append(k[1])\n",
        "print(list(map(tuple, result)))"
      ],
      "metadata": {
        "colab": {
          "base_uri": "https://localhost:8080/"
        },
        "id": "oIUaLufDDUHt",
        "outputId": "5faf4015-5d27-4990-975c-0eca6b2737e7"
      },
      "execution_count": 6,
      "outputs": [
        {
          "output_type": "stream",
          "name": "stdout",
          "text": [
            "[3, 1, 2, 6]\n",
            "[(3, 6, 4), (1, 7), (2, 4), (6, 3)]\n"
          ]
        }
      ]
    },
    {
      "cell_type": "code",
      "source": [
        "def join_tuples(tuples_list):\n",
        "    tuples_list.sort(key=lambda x: x[0])\n",
        "    result = []\n",
        "    combined_tuple = None\n",
        "\n",
        "    for i, tup in enumerate(tuples_list):\n",
        "        if combined_tuple is None:\n",
        "            combined_tuple = list(tup)\n",
        "        elif tup[0] == tuples_list[i - 1][0]:\n",
        "            combined_tuple.extend(tup[1:])\n",
        "        else:\n",
        "            result.append(tuple(combined_tuple))\n",
        "            combined_tuple = list(tup)\n",
        "\n",
        "    if combined_tuple is not None:\n",
        "        result.append(tuple(combined_tuple))\n",
        "\n",
        "    return result\n",
        "\n",
        "list1 = [(3, 6), (1, 7), (3, 4), (2, 4), (6, 3)]\n",
        "list2 = [(3, 6, 4), (1, 7), (2, 4), (6, 3)]\n",
        "\n",
        "print(\"Joined list2 from list1:\", join_tuples(list1))\n"
      ],
      "metadata": {
        "colab": {
          "base_uri": "https://localhost:8080/"
        },
        "id": "cnXaZNqoHfq9",
        "outputId": "55bed40a-c0ad-47dc-8be7-a90813f45e78"
      },
      "execution_count": null,
      "outputs": [
        {
          "output_type": "stream",
          "name": "stdout",
          "text": [
            "Joined list2 from list1: [(1, 7), (2, 4), (3, 6, 4), (6, 3)]\n"
          ]
        }
      ]
    },
    {
      "cell_type": "markdown",
      "source": [
        "Q. Multiply Adjacent elements (both side) and take sum of right and left side multiplication result."
      ],
      "metadata": {
        "id": "pjketq95W8Lz"
      }
    },
    {
      "cell_type": "code",
      "execution_count": null,
      "metadata": {
        "colab": {
          "base_uri": "https://localhost:8080/"
        },
        "id": "pbqyd10cNL9d",
        "outputId": "5aa581a4-2c4b-4ccc-f1cb-edee021d7b70"
      },
      "outputs": [
        {
          "output_type": "stream",
          "name": "stdout",
          "text": [
            "[5, 40, 91, 136, 80]\n"
          ]
        }
      ],
      "source": [
        "# (1*5, 1*5+5*7, 7*5 + 7*8, 8*7 + 8*10, 10*8) -> (5, 40, 91, 136, 80)\n",
        "t = (1, 5, 7, 8, 10)\n",
        "l = []\n",
        "for i in range(len(t)):\n",
        "  if i > 0 and i+1 < len(t):\n",
        "    l.append(t[i] * t[i-1] + t[i] * t[i+1])\n",
        "  elif i > 0:\n",
        "    l.append(t[i] * t[i-1])\n",
        "  elif i+1 < len(t):\n",
        "    l.append(t[i] * t[i+1])\n",
        "print(l)"
      ]
    },
    {
      "cell_type": "markdown",
      "source": [
        "Q. Check is tuples are same or not?"
      ],
      "metadata": {
        "id": "eTi0RBNszxH3"
      }
    },
    {
      "cell_type": "code",
      "source": [
        "t1 = (3, 4, 6, 7)\n",
        "t2 = (3, 4, 6, 7)\n",
        "print(t1 == t2)"
      ],
      "metadata": {
        "colab": {
          "base_uri": "https://localhost:8080/"
        },
        "id": "XY3cvGcqz02w",
        "outputId": "e58cf8da-975c-4d8e-e6d0-1825f0a8ccc4"
      },
      "execution_count": 8,
      "outputs": [
        {
          "output_type": "stream",
          "name": "stdout",
          "text": [
            "True\n"
          ]
        }
      ]
    },
    {
      "cell_type": "code",
      "source": [
        "t1 = (3, 4, 6, 7)\n",
        "t2 = (4, 6, 3, 7)\n",
        "\n",
        "for i, j in zip(t1, t2):\n",
        "  if i != j:\n",
        "    print('not same')\n",
        "    break\n",
        "else:\n",
        "  print('same')"
      ],
      "metadata": {
        "colab": {
          "base_uri": "https://localhost:8080/"
        },
        "id": "lc4rejsj0Jiz",
        "outputId": "5e1ea3a9-6c26-42c5-a14b-cb35563ae396"
      },
      "execution_count": 9,
      "outputs": [
        {
          "output_type": "stream",
          "name": "stdout",
          "text": [
            "not same\n"
          ]
        }
      ]
    },
    {
      "cell_type": "markdown",
      "source": [
        "Q. Count no of tuples, list and set from a list"
      ],
      "metadata": {
        "id": "_tGZViGuXKPj"
      }
    },
    {
      "cell_type": "code",
      "source": [
        "list1 = [{'hi', 'bye'},{'Geeks', 'forGeeks'},('a', 'b'),['hi', 'bye'],['a', 'b']]\n",
        "t = l = s = 0\n",
        "for item in list1:\n",
        "  if type(item) == tuple:\n",
        "    t += 1\n",
        "  elif type(item) == list:\n",
        "    l += 1\n",
        "  elif type(item) == set:\n",
        "    s += 1\n",
        "print(\"List -\", l)\n",
        "print(\"Set -\", s)\n",
        "print(\"Tuple -\", t)"
      ],
      "metadata": {
        "colab": {
          "base_uri": "https://localhost:8080/"
        },
        "id": "YI2WBEAcXLgy",
        "outputId": "62ec5763-e108-4608-f1fb-66172f387634"
      },
      "execution_count": null,
      "outputs": [
        {
          "output_type": "stream",
          "name": "stdout",
          "text": [
            "List - 2\n",
            "Set - 2\n",
            "Tuple - 1\n"
          ]
        }
      ]
    },
    {
      "cell_type": "markdown",
      "source": [
        "Q. Ask user to input students record and store in tuples for each record. Then Ask user to input three things he wants in the candidate- Primary Skill, Higher Education, Year of Graduation.\n",
        "\n",
        "Show every students record in form of tuples if matches all required criteria.\n",
        "\n",
        "It is assumed that there will be only one primary skill.\n",
        "\n",
        "If no such candidate found, print 'No such candidate'.\n",
        "\n",
        "input -\n",
        "```\n",
        "Enter No of records- 2\n",
        "Enter Details of student-1\n",
        "Enter Student name- Manohar\n",
        "Enter Higher Education- B.Tech\n",
        "Enter Primary Skill- Python\n",
        "Enter Year of Graduation- 2022\n",
        "Enter Details of student-2\n",
        "Enter Student name- Ponian\n",
        "Enter Higher Education- B.Sc.\n",
        "Enter Primary Skill- C++\n",
        "Enter Year of Graduation- 2020\n",
        "\n",
        "Enter Job Role Requirement\n",
        "Enter Skill- Python\n",
        "Enter Higher Education- B.Tech\n",
        "Enter Year of Graduation- 2022\n",
        "```\n",
        "output -\n",
        "```\n",
        "('Manohar', 'B.tech', 'Python', '2022')\n",
        "```"
      ],
      "metadata": {
        "id": "byIjC24t0s3W"
      }
    },
    {
      "cell_type": "code",
      "source": [
        "students = []\n",
        "\n",
        "num = int(input('Enter no. of records : '))\n",
        "\n",
        "for i in range(num):\n",
        "  print('Enter details of student -', i+1)\n",
        "  name = input('Enter name : ')\n",
        "  edu = input('Enter higher education : ')\n",
        "  skill = input('Enter primary skill : ')\n",
        "  year = input('Enter year of graduation : ')\n",
        "  students.append((name, edu, skill, year))\n",
        "\n",
        "req_edu = input('Enter required higher education : ')\n",
        "req_skill = input('Enter required primary skill : ')\n",
        "req_year = input('Enter required year of graduation : ')\n",
        "\n",
        "for j in students:\n",
        "  if j[1] == req_edu and j[2] == req_skill and j[3] == req_year:\n",
        "    print(j)\n",
        "    break\n",
        "else:\n",
        "  print('No such candidate')"
      ],
      "metadata": {
        "colab": {
          "base_uri": "https://localhost:8080/"
        },
        "id": "TqvQAh5L0siD",
        "outputId": "2e2a67c2-23e7-41cc-cf96-c6874007fe0b"
      },
      "execution_count": 10,
      "outputs": [
        {
          "output_type": "stream",
          "name": "stdout",
          "text": [
            "Enter no. of records : 3\n",
            "Enter details of student - 1\n",
            "Enter name : hitesh\n",
            "Enter higher education : B.Sc.\n",
            "Enter primary skill : Maths\n",
            "Enter year of graduation : 2020\n",
            "Enter details of student - 2\n",
            "Enter name : Raghav\n",
            "Enter higher education : B.Tech.\n",
            "Enter primary skill : C++\n",
            "Enter year of graduation : 2022\n",
            "Enter details of student - 3\n",
            "Enter name : Ravi\n",
            "Enter higher education : B.A.\n",
            "Enter primary skill : Graphic Design\n",
            "Enter year of graduation : 2023\n",
            "Enter required higher education : B.Sc.\n",
            "Enter required primary skill : Maths\n",
            "Enter required year of graduation : 2022\n",
            "No such candidate\n"
          ]
        }
      ]
    },
    {
      "cell_type": "markdown",
      "source": [
        "##Set"
      ],
      "metadata": {
        "id": "RGA5ou760tYk"
      }
    },
    {
      "cell_type": "markdown",
      "source": [
        "Q. Write a program to find set of common elements in three lists using sets."
      ],
      "metadata": {
        "id": "eLZDj0ayXezt"
      }
    },
    {
      "cell_type": "markdown",
      "source": [
        "```\n",
        "Input : ar1 = [1, 5, 10, 20, 40, 80]\n",
        "        ar2 = [6, 7, 20, 80, 100]\n",
        "        ar3 = [3, 4, 15, 20, 30, 70, 80, 120]\n",
        "\n",
        "Output : [80, 20]\n",
        "```"
      ],
      "metadata": {
        "id": "rbXMSusi4BAr"
      }
    },
    {
      "cell_type": "code",
      "source": [
        "ar1 = [1, 5, 10, 20, 40, 80]\n",
        "ar2 = [6, 7, 20, 80, 100]\n",
        "ar3 = [3, 4, 15, 20, 30, 70, 80, 120]\n",
        "list(set(ar1).intersection(set(ar2)).intersection(set(ar3)))"
      ],
      "metadata": {
        "colab": {
          "base_uri": "https://localhost:8080/"
        },
        "id": "E2pCQcIZXft6",
        "outputId": "d2b1dd87-de83-495b-b69e-4f18575bed42"
      },
      "execution_count": null,
      "outputs": [
        {
          "output_type": "execute_result",
          "data": {
            "text/plain": [
              "[80, 20]"
            ]
          },
          "metadata": {},
          "execution_count": 3
        }
      ]
    },
    {
      "cell_type": "markdown",
      "source": [
        "Q. Write a program to count unique number of vowels using sets in a given string. Lowercase and upercase vowels will be taken as different."
      ],
      "metadata": {
        "id": "Kjh2JFpP4RnI"
      }
    },
    {
      "cell_type": "code",
      "source": [
        "vowels = set('aeiouAEIOU')\n",
        "string = 'This is A string To Count Unique Number of Vowels'\n",
        "print('Count of unique vowels :', len(vowels & set(string)))"
      ],
      "metadata": {
        "id": "M_AXAbX0X0or",
        "colab": {
          "base_uri": "https://localhost:8080/"
        },
        "outputId": "ad66d141-8080-4db6-c000-2b468b1ae610"
      },
      "execution_count": 14,
      "outputs": [
        {
          "output_type": "stream",
          "name": "stdout",
          "text": [
            "Count of unique vowels : 6\n"
          ]
        }
      ]
    },
    {
      "cell_type": "markdown",
      "source": [
        "Q. Write a program to Check if a given string is binary string of or not."
      ],
      "metadata": {
        "id": "U20gDYym5Z3c"
      }
    },
    {
      "cell_type": "markdown",
      "source": [
        "A string is said to be binary if it's consists of only two unique characters."
      ],
      "metadata": {
        "id": "Jc6vGEKO5sBQ"
      }
    },
    {
      "cell_type": "code",
      "source": [
        "#str1 = '0101010111' -> binary\n",
        "#str2 = '5252552' -> binary\n",
        "#str3 = '4167761' -> not binary\n",
        "\n",
        "string = input('Enter a string : ')\n",
        "if len(set(string)) == 2:\n",
        "  print('binary')\n",
        "else:\n",
        "  print('not binary')"
      ],
      "metadata": {
        "colab": {
          "base_uri": "https://localhost:8080/"
        },
        "id": "MDcKiOr-4Yrw",
        "outputId": "f0615753-c31b-4699-b842-7ded139a5cea"
      },
      "execution_count": 15,
      "outputs": [
        {
          "output_type": "stream",
          "name": "stdout",
          "text": [
            "Enter a string : 6555665\n",
            "binary\n"
          ]
        }
      ]
    },
    {
      "cell_type": "markdown",
      "source": [
        "Q. find union of n arrays.\n",
        "\n",
        "```\n",
        "input -\n",
        "[[1, 2, 2, 4, 3, 6],\n",
        " [5, 1, 3, 4],\n",
        " [9, 5, 7, 1],\n",
        " [2, 4, 1, 3]]\n",
        "\n",
        "output -\n",
        "[1, 2, 3, 4, 5, 6, 7, 9]\n",
        "```"
      ],
      "metadata": {
        "id": "30b0vtF78sT_"
      }
    },
    {
      "cell_type": "code",
      "source": [
        "array = [[1, 2, 2, 4, 3, 6],\n",
        "        [5, 1, 3, 4],\n",
        "        [9, 5, 7, 1],\n",
        "        [2, 4, 1, 3]]\n",
        "\n",
        "result = set()\n",
        "for i in array:\n",
        "  result.update(i)\n",
        "print(result)"
      ],
      "metadata": {
        "colab": {
          "base_uri": "https://localhost:8080/"
        },
        "id": "e20M511N6gk4",
        "outputId": "c3081590-cf93-4179-d1ee-83341646a0d6"
      },
      "execution_count": 20,
      "outputs": [
        {
          "output_type": "stream",
          "name": "stdout",
          "text": [
            "{1, 2, 3, 4, 5, 6, 7, 9}\n"
          ]
        }
      ]
    },
    {
      "cell_type": "code",
      "source": [
        "print({5, 34, 7, 3}.union([6, 7, 34, 8]))"
      ],
      "metadata": {
        "colab": {
          "base_uri": "https://localhost:8080/"
        },
        "id": "ycpvbawy9bkX",
        "outputId": "10dabd8b-8314-4969-f213-2c7021b67f63"
      },
      "execution_count": 24,
      "outputs": [
        {
          "output_type": "stream",
          "name": "stdout",
          "text": [
            "{34, 3, 5, 6, 7, 8}\n"
          ]
        }
      ]
    },
    {
      "cell_type": "markdown",
      "source": [
        "Q. Intersection of two lists. Intersection of two list means we need to take all those elements which are common to both of the initial lists and store them into another list. Only use using list-comprehension."
      ],
      "metadata": {
        "id": "eGMTZRyt_AiR"
      }
    },
    {
      "cell_type": "markdown",
      "source": [
        "```\n",
        "input -\n",
        "lst1 = {15, 9, 10, 56, 23, 78, 5, 4, 9}\n",
        "lst2 = {9, 4, 5, 36, 47, 26, 10, 45, 87}\n",
        "\n",
        "output - [9, 10, 4, 5]\n",
        "```"
      ],
      "metadata": {
        "id": "3cO8dLQx_f2e"
      }
    },
    {
      "cell_type": "code",
      "source": [
        "lst1 = {15, 9, 10, 56, 23, 78, 5, 4, 9}\n",
        "lst2 = {9, 4, 5, 36, 47, 26, 10, 45, 87}\n",
        "\n",
        "[i for i in lst1 if i in lst2]"
      ],
      "metadata": {
        "colab": {
          "base_uri": "https://localhost:8080/"
        },
        "id": "-IB1KjQc97M_",
        "outputId": "a6f1bd19-b521-4a0e-be70-6e143f00f48b"
      },
      "execution_count": 26,
      "outputs": [
        {
          "output_type": "execute_result",
          "data": {
            "text/plain": [
              "[4, 5, 9, 10]"
            ]
          },
          "metadata": {},
          "execution_count": 26
        }
      ]
    },
    {
      "cell_type": "markdown",
      "source": [
        "##Dictionary\n",
        "\n",
        "Q. Given a dictionary with values list, extract key whose value has most unique values."
      ],
      "metadata": {
        "id": "hgauOGi-BCBJ"
      }
    },
    {
      "cell_type": "markdown",
      "source": [
        "```\n",
        "input - {\"key1\" : [5, 7, 9, 4, 0, 9], \"key2\" : [6, 7, 4, 3, 2, 8], \"key3\" : [9, 9, 6, 5, 5, 7]}\n",
        "\n",
        "output - key2\n",
        "```"
      ],
      "metadata": {
        "id": "sa93_gMcBOso"
      }
    },
    {
      "cell_type": "code",
      "source": [
        "test_dict = {\"key1\" : [5, 7, 9, 4, 0, 9], \"key2\" : [6, 7, 4, 3, 2, 8], \"key3\" : [9, 9, 6, 5, 5, 7]}\n",
        "max_unique = 0\n",
        "max_key = ''\n",
        "for key, item in test_dict.items():\n",
        "  if len(set(item)) > max_unique:\n",
        "    max_unique = len(set(item))\n",
        "    max_key = key\n",
        "print(max_key)"
      ],
      "metadata": {
        "colab": {
          "base_uri": "https://localhost:8080/"
        },
        "id": "OEnA3dHL_97v",
        "outputId": "4a5657f8-d103-43f1-8da5-bc92d1bab2fb"
      },
      "execution_count": 27,
      "outputs": [
        {
          "output_type": "stream",
          "name": "stdout",
          "text": [
            "key2\n"
          ]
        }
      ]
    },
    {
      "cell_type": "markdown",
      "source": [
        "Q. Replace words from Dictionary. Given String, replace it’s words from lookup dictionary."
      ],
      "metadata": {
        "id": "kQGRimyfDG3z"
      }
    },
    {
      "cell_type": "markdown",
      "source": [
        "```\n",
        "input -\n",
        "test_str = \"From the sea to the sky\"\n",
        "repl_dict = {\"sea\" : \"top\", \"sky\" : \"bottom\"}\n",
        "\n",
        "output - \"From the top to the bottom\"\n",
        "```"
      ],
      "metadata": {
        "id": "LDhzlXSyDLh6"
      }
    },
    {
      "cell_type": "code",
      "source": [
        "test_str = \"From the sea to the sky\"\n",
        "repl_dict = {\"sea\" : \"top\", \"sky\" : \"bottom\"}\n",
        "\n",
        "string = test_str.split()\n",
        "for i in range(len(string)):\n",
        "  if string[i] in repl_dict.keys():\n",
        "    string[i] = repl_dict[string[i]]\n",
        "print(' '.join(string))"
      ],
      "metadata": {
        "colab": {
          "base_uri": "https://localhost:8080/"
        },
        "id": "1Wa8IU9nC1Jf",
        "outputId": "348063b1-9214-4335-fab4-be0b3c9e76fb"
      },
      "execution_count": 30,
      "outputs": [
        {
          "output_type": "stream",
          "name": "stdout",
          "text": [
            "From the top to the bottom\n"
          ]
        }
      ]
    }
  ]
}