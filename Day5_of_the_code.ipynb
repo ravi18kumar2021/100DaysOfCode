{
  "nbformat": 4,
  "nbformat_minor": 0,
  "metadata": {
    "colab": {
      "provenance": [],
      "authorship_tag": "ABX9TyPvdfRRSzZgyZZCsO9Gxox3",
      "include_colab_link": true
    },
    "kernelspec": {
      "name": "python3",
      "display_name": "Python 3"
    },
    "language_info": {
      "name": "python"
    }
  },
  "cells": [
    {
      "cell_type": "markdown",
      "metadata": {
        "id": "view-in-github",
        "colab_type": "text"
      },
      "source": [
        "<a href=\"https://colab.research.google.com/github/ravi18kumar2021/100DaysOfCode/blob/main/Day5_of_the_code.ipynb\" target=\"_parent\"><img src=\"https://colab.research.google.com/assets/colab-badge.svg\" alt=\"Open In Colab\"/></a>"
      ]
    },
    {
      "cell_type": "markdown",
      "source": [
        "Q. Multiply Adjacent elements (both side) and take sum of right and left side multiplication result."
      ],
      "metadata": {
        "id": "pjketq95W8Lz"
      }
    },
    {
      "cell_type": "code",
      "execution_count": 1,
      "metadata": {
        "colab": {
          "base_uri": "https://localhost:8080/"
        },
        "id": "pbqyd10cNL9d",
        "outputId": "5aa581a4-2c4b-4ccc-f1cb-edee021d7b70"
      },
      "outputs": [
        {
          "output_type": "stream",
          "name": "stdout",
          "text": [
            "[5, 40, 91, 136, 80]\n"
          ]
        }
      ],
      "source": [
        "# (1*5, 1*5+5*7, 7*5 + 7*8, 8*7 + 8*10, 10*8) -> (5, 40, 91, 136, 80)\n",
        "t = (1, 5, 7, 8, 10)\n",
        "l = []\n",
        "for i in range(len(t)):\n",
        "  if i > 0 and i+1 < len(t):\n",
        "    l.append(t[i] * t[i-1] + t[i] * t[i+1])\n",
        "  elif i > 0:\n",
        "    l.append(t[i] * t[i-1])\n",
        "  elif i+1 < len(t):\n",
        "    l.append(t[i] * t[i+1])\n",
        "print(l)"
      ]
    },
    {
      "cell_type": "markdown",
      "source": [
        "Q. Count no of tuples, list and set from a list"
      ],
      "metadata": {
        "id": "_tGZViGuXKPj"
      }
    },
    {
      "cell_type": "code",
      "source": [
        "list1 = [{'hi', 'bye'},{'Geeks', 'forGeeks'},('a', 'b'),['hi', 'bye'],['a', 'b']]\n",
        "t = l = s = 0\n",
        "for item in list1:\n",
        "  if type(item) == tuple:\n",
        "    t += 1\n",
        "  elif type(item) == list:\n",
        "    l += 1\n",
        "  elif type(item) == set:\n",
        "    s += 1\n",
        "print(\"List -\", l)\n",
        "print(\"Set -\", s)\n",
        "print(\"Tuple -\", t)"
      ],
      "metadata": {
        "colab": {
          "base_uri": "https://localhost:8080/"
        },
        "id": "YI2WBEAcXLgy",
        "outputId": "62ec5763-e108-4608-f1fb-66172f387634"
      },
      "execution_count": 2,
      "outputs": [
        {
          "output_type": "stream",
          "name": "stdout",
          "text": [
            "List - 2\n",
            "Set - 2\n",
            "Tuple - 1\n"
          ]
        }
      ]
    },
    {
      "cell_type": "markdown",
      "source": [
        "Q. Write a program to find set of common elements in three lists using sets."
      ],
      "metadata": {
        "id": "eLZDj0ayXezt"
      }
    },
    {
      "cell_type": "code",
      "source": [
        "ar1 = [1, 5, 10, 20, 40, 80]\n",
        "ar2 = [6, 7, 20, 80, 100]\n",
        "ar3 = [3, 4, 15, 20, 30, 70, 80, 120]\n",
        "list(set(ar1).intersection(set(ar2)).intersection(set(ar3)))"
      ],
      "metadata": {
        "colab": {
          "base_uri": "https://localhost:8080/"
        },
        "id": "E2pCQcIZXft6",
        "outputId": "d2b1dd87-de83-495b-b69e-4f18575bed42"
      },
      "execution_count": 3,
      "outputs": [
        {
          "output_type": "execute_result",
          "data": {
            "text/plain": [
              "[80, 20]"
            ]
          },
          "metadata": {},
          "execution_count": 3
        }
      ]
    },
    {
      "cell_type": "code",
      "source": [],
      "metadata": {
        "id": "M_AXAbX0X0or"
      },
      "execution_count": null,
      "outputs": []
    }
  ]
}