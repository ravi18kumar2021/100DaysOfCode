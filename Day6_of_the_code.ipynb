{
  "nbformat": 4,
  "nbformat_minor": 0,
  "metadata": {
    "colab": {
      "provenance": [],
      "include_colab_link": true
    },
    "kernelspec": {
      "name": "python3",
      "display_name": "Python 3"
    },
    "language_info": {
      "name": "python"
    }
  },
  "cells": [
    {
      "cell_type": "markdown",
      "metadata": {
        "id": "view-in-github",
        "colab_type": "text"
      },
      "source": [
        "<a href=\"https://colab.research.google.com/github/ravi18kumar2021/100DaysOfCode/blob/main/Day6_of_the_code.ipynb\" target=\"_parent\"><img src=\"https://colab.research.google.com/assets/colab-badge.svg\" alt=\"Open In Colab\"/></a>"
      ]
    },
    {
      "cell_type": "markdown",
      "source": [
        "### **`Problem-1:`** Write a Python function that takes a list and returns a new list with unique elements of the first list.\n",
        "\n",
        "Input:\n",
        "\n",
        "```bash\n",
        "[1,2,3,3,3,3,4,5]\n",
        "```\n",
        "\n",
        "Output:\n",
        "\n",
        "```bash\n",
        "[1, 2, 3, 4, 5]\n",
        "```"
      ],
      "metadata": {
        "id": "h6dDSW5XGZFi"
      }
    },
    {
      "cell_type": "code",
      "source": [
        "def unique_list(input_list):\n",
        "  result = []\n",
        "  for item in input_list:\n",
        "    if item not in result:\n",
        "      result.append(item)\n",
        "  return result\n",
        "\n",
        "l = [2, 5, 3, 2, 1, 6, 3]\n",
        "print(unique_list(l))"
      ],
      "metadata": {
        "colab": {
          "base_uri": "https://localhost:8080/"
        },
        "id": "x6bScu4OlYgY",
        "outputId": "9871930e-89dd-4037-edc8-1849b7eff9aa"
      },
      "execution_count": 1,
      "outputs": [
        {
          "output_type": "stream",
          "name": "stdout",
          "text": [
            "[2, 5, 3, 1, 6]\n"
          ]
        }
      ]
    },
    {
      "cell_type": "markdown",
      "source": [
        "### **`Problem-2:`** Write a Python function that accepts a hyphen-separated sequence of words as parameter and returns the words in a hyphen-separated sequence after sorting them alphabetically.\n",
        "\n",
        "**Example 1:**\n",
        "\n",
        "Input:\n",
        "```bash\n",
        "green-red-yellow-black-white\n",
        "```\n",
        "\n",
        "Output:\n",
        "```bash\n",
        "black-green-red-white-yellow\n",
        "```"
      ],
      "metadata": {
        "id": "UxQ_VoyJGwHj"
      }
    },
    {
      "cell_type": "code",
      "source": [
        "def sortSequence(seq):\n",
        "  temp = seq.split('-')\n",
        "  temp.sort()\n",
        "  result = '-'.join(temp)\n",
        "  return result\n",
        "\n",
        "seq = 'green-red-yellow-black-white'\n",
        "sortSequence(seq)"
      ],
      "metadata": {
        "colab": {
          "base_uri": "https://localhost:8080/",
          "height": 52
        },
        "id": "UewhUCYEmewj",
        "outputId": "965bd8a1-2217-48bf-e261-039b33319625"
      },
      "execution_count": 4,
      "outputs": [
        {
          "output_type": "stream",
          "name": "stdout",
          "text": [
            "['black', 'green', 'red', 'white', 'yellow']\n"
          ]
        },
        {
          "output_type": "execute_result",
          "data": {
            "text/plain": [
              "'black-green-red-white-yellow'"
            ],
            "application/vnd.google.colaboratory.intrinsic+json": {
              "type": "string"
            }
          },
          "metadata": {},
          "execution_count": 4
        }
      ]
    },
    {
      "cell_type": "markdown",
      "source": [
        "### **`Problem 3:`** Write a Python function that accepts a string and calculate the number of upper case letters and lower case letters.\n",
        "\n",
        "```\n",
        "Sample String : 'Hello World'\n",
        "Expected Output :\n",
        "No. of Upper case characters :  2\n",
        "No. of Lower case Characters :  8\n",
        "```"
      ],
      "metadata": {
        "id": "IRGH62S7Gx_n"
      }
    },
    {
      "cell_type": "code",
      "source": [
        "def get_frequency(string):\n",
        "  lower = upper = 0\n",
        "  for item in string:\n",
        "    if item.islower():\n",
        "      lower += 1\n",
        "    elif item.isupper():\n",
        "      upper += 1\n",
        "  return lower, upper\n",
        "\n",
        "string = 'Hello World'\n",
        "result = get_frequency(string)\n",
        "print('No. of lower case :', result[0])\n",
        "print('No. of upper case :', result[1])"
      ],
      "metadata": {
        "colab": {
          "base_uri": "https://localhost:8080/"
        },
        "id": "xuokU1wunjSf",
        "outputId": "217513c4-756c-4b1d-d5bd-281eeaa62667"
      },
      "execution_count": 5,
      "outputs": [
        {
          "output_type": "stream",
          "name": "stdout",
          "text": [
            "No. of lower case : 8\n",
            "No. of upper case : 2\n"
          ]
        }
      ]
    },
    {
      "cell_type": "markdown",
      "source": [
        "### **`Problem 4:`** Write a Python program to print the even numbers from a given list.\n",
        "```\n",
        "Sample List : [1, 2, 3, 4, 5, 6, 7, 8, 9]\n",
        "Expected Result : [2, 4, 6, 8]\n",
        "```"
      ],
      "metadata": {
        "id": "V1BFFdYQG7Sn"
      }
    },
    {
      "cell_type": "code",
      "source": [
        "def get_even(L):\n",
        "  result = []\n",
        "  for item in L:\n",
        "    if item%2 == 0:\n",
        "      result.append(item)\n",
        "  return result\n",
        "\n",
        "l = [1, 2, 3, 4, 5, 6, 7, 8, 9]\n",
        "get_even(l)"
      ],
      "metadata": {
        "colab": {
          "base_uri": "https://localhost:8080/"
        },
        "id": "vdVNnPuuoxro",
        "outputId": "acbd074a-45ff-4223-c8fc-339d2ba539c4"
      },
      "execution_count": 6,
      "outputs": [
        {
          "output_type": "execute_result",
          "data": {
            "text/plain": [
              "[2, 4, 6, 8]"
            ]
          },
          "metadata": {},
          "execution_count": 6
        }
      ]
    },
    {
      "cell_type": "markdown",
      "source": [
        "### **`Problem 5:`** Write a Python function to check whether a number is perfect or not.\n",
        "\n",
        "A Perfect number is a number that is half the sum of all of its positive divisors (including itself).\n",
        "\n",
        "Example :\n",
        "\n",
        "```\n",
        "The first perfect number is 6, because 1, 2, and 3 are its proper positive divisors, and 1 + 2 + 3 = 6.\n",
        "Equivalently, the number 6 is equal to half the sum of all its positive divisors: ( 1 + 2 + 3 + 6 ) / 2 = 6.\n",
        "\n",
        "The next perfect number is 28 = 1 + 2 + 4 + 7 + 14. This is followed by the perfect numbers 496 and 8128.\n",
        "```\n"
      ],
      "metadata": {
        "id": "qrK39Gn-HHb4"
      }
    },
    {
      "cell_type": "code",
      "source": [
        "def isPerfectNumber(num):\n",
        "  addition = 0\n",
        "  for i in range(1, num):\n",
        "    if num%i == 0:\n",
        "      addition += i\n",
        "  return addition == num\n",
        "\n",
        "isPerfectNumber(24)"
      ],
      "metadata": {
        "colab": {
          "base_uri": "https://localhost:8080/"
        },
        "id": "rhwT6xXhrEFs",
        "outputId": "89fb99cb-4026-4824-fd6f-76df60929ff8"
      },
      "execution_count": 13,
      "outputs": [
        {
          "output_type": "execute_result",
          "data": {
            "text/plain": [
              "False"
            ]
          },
          "metadata": {},
          "execution_count": 13
        }
      ]
    },
    {
      "cell_type": "markdown",
      "source": [
        "### **`Problem-6:`** Write a Python function to concatenate any no of dictionaries to create a new one.\n",
        "\n",
        "```\n",
        "Sample Dictionary :\n",
        "dic1={1:10, 2:20}\n",
        "dic2={3:30, 4:40}\n",
        "dic3={5:50,6:60}\n",
        "Expected Result : {1: 10, 2: 20, 3: 30, 4: 40, 5: 50, 6: 60}\n",
        "```"
      ],
      "metadata": {
        "id": "oZdpcG77HO-6"
      }
    },
    {
      "cell_type": "code",
      "source": [
        "def concatenateDictionary(*args):\n",
        "  result = {}\n",
        "  for i in args:\n",
        "    result.update(i)\n",
        "  return result\n",
        "\n",
        "dict1={1:10, 2:20}\n",
        "dict2={3:30, 4:40}\n",
        "dict3={5:50, 6:60}\n",
        "concatenateDictionary(dict1, dict2, dict3)"
      ],
      "metadata": {
        "colab": {
          "base_uri": "https://localhost:8080/"
        },
        "id": "eoaT7cvMsO1H",
        "outputId": "bb6be687-f8c8-43a1-a4b7-5acf78844c81"
      },
      "execution_count": 15,
      "outputs": [
        {
          "output_type": "execute_result",
          "data": {
            "text/plain": [
              "{1: 10, 2: 20, 3: 30, 4: 40, 5: 50, 6: 60}"
            ]
          },
          "metadata": {},
          "execution_count": 15
        }
      ]
    },
    {
      "cell_type": "markdown",
      "source": [
        "`Problem-7` Write a python function that accepts a string as input and returns the word with most occurence.\n",
        "\n",
        "```\n",
        "Input:\n",
        "hello how are you i am fine thank you\n",
        "```\n",
        "\n",
        "```\n",
        "Output\n",
        "you -> 2\n",
        "```"
      ],
      "metadata": {
        "id": "jQ6SzbCkHRd0"
      }
    },
    {
      "cell_type": "code",
      "source": [
        "def getMostOccurredWord(string):\n",
        "  l = string.split()\n",
        "  d = {}\n",
        "  for item in l:\n",
        "    if item not in d:\n",
        "      d[item] = 1\n",
        "    else:\n",
        "      d[item] += 1\n",
        "  most_occurrence = max(d.values())\n",
        "  for key, val in d.items():\n",
        "    if val == most_occurrence:\n",
        "      print('{} -> {}'.format(key, val))\n",
        "string = 'hello how are you i am fine thank you'\n",
        "getMostOccurredWord(string)"
      ],
      "metadata": {
        "colab": {
          "base_uri": "https://localhost:8080/"
        },
        "id": "n7vY8rcYtQSU",
        "outputId": "64ddd26b-9f4b-4b4b-bc56-3dda092770a7"
      },
      "execution_count": 19,
      "outputs": [
        {
          "output_type": "stream",
          "name": "stdout",
          "text": [
            "you -> 2\n"
          ]
        }
      ]
    }
  ]
}