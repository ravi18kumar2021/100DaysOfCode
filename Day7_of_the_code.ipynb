{
  "nbformat": 4,
  "nbformat_minor": 0,
  "metadata": {
    "colab": {
      "provenance": [],
      "include_colab_link": true
    },
    "kernelspec": {
      "name": "python3",
      "display_name": "Python 3"
    },
    "language_info": {
      "name": "python"
    }
  },
  "cells": [
    {
      "cell_type": "markdown",
      "metadata": {
        "id": "view-in-github",
        "colab_type": "text"
      },
      "source": [
        "<a href=\"https://colab.research.google.com/github/ravi18kumar2021/100DaysOfCode/blob/main/Day7_of_the_code.ipynb\" target=\"_parent\"><img src=\"https://colab.research.google.com/assets/colab-badge.svg\" alt=\"Open In Colab\"/></a>"
      ]
    },
    {
      "cell_type": "markdown",
      "source": [
        "##`Q-1:` Rectangle Class\n",
        "1. Write a Rectangle class in Python language, allowing you to build a rectangle with length and width attributes.\n",
        "\n",
        "2. Create a Perimeter() method to calculate the perimeter of the rectangle and a Area() method to calculate the area of ​​the rectangle.\n",
        "\n",
        "3. Create a method display() that display the length, width, perimeter and area of an object created using an instantiation on rectangle class."
      ],
      "metadata": {
        "id": "FyUJ3PRAsPr4"
      }
    },
    {
      "cell_type": "markdown",
      "source": [
        "Eg.\n",
        "After making above classes and methods, on executing below code:-\n",
        "```\n",
        "my_rectangle = Rectangle(3 , 4)\n",
        "my_rectangle.display()\n",
        "```\n",
        "\n",
        "`Output:`\n",
        "```\n",
        "The length of rectangle is:  3\n",
        "The width of rectangle is:  4\n",
        "The perimeter of rectangle is:  14\n",
        "The area of rectangle is:  12\n",
        "```\n"
      ],
      "metadata": {
        "id": "GxUtOqJfssFK"
      }
    },
    {
      "cell_type": "code",
      "source": [
        "class Rectangle:\n",
        "  def __init__(self, length, width):\n",
        "    self.__length = length\n",
        "    self.__width = width\n",
        "\n",
        "  def __calculatePerimeter(self):\n",
        "    return 2 * (self.__length + self.__width)\n",
        "\n",
        "  def __calculateArea(self):\n",
        "    return self.__length * self.__width\n",
        "\n",
        "  def display(self):\n",
        "    print('The length of rectangle is:', self.__length)\n",
        "    print('The width of rectangle is:', self.__width)\n",
        "    print('The perimeter of rectangle is:', self.__calculatePerimeter())\n",
        "    print('The area of rectangle is:', self.__calculateArea())\n",
        "\n",
        "obj = Rectangle(3, 4)\n",
        "obj.display()"
      ],
      "metadata": {
        "id": "7A3aKP6I0mph",
        "colab": {
          "base_uri": "https://localhost:8080/"
        },
        "outputId": "c0e4c145-ce7c-4ce0-e469-cd2e4843d9e0"
      },
      "execution_count": null,
      "outputs": [
        {
          "output_type": "stream",
          "name": "stdout",
          "text": [
            "The length of rectangle is: 3\n",
            "The width of rectangle is: 4\n",
            "The perimeter of rectangle is: 14\n",
            "The area of rectangle is: 12\n"
          ]
        }
      ]
    },
    {
      "cell_type": "markdown",
      "source": [
        "##`Q-2: Bank Class`\n",
        "\n",
        "1. Create a Python class called `BankAccount` which represents a bank account, having as attributes: `accountNumber` (numeric type), `name` (name of the account owner as string type), `balance`.\n",
        "2. Create a constructor with parameters: `accountNumber, name, balance`.\n",
        "3. Create a `Deposit()` method which manages the deposit actions.\n",
        "4. Create a `Withdrawal()` method  which manages withdrawals actions.\n",
        "5. Create an `bankFees()` method to apply the bank fees with a percentage of 5% of the balance account.\n",
        "6. Create a `display()` method to display account details.\n",
        "Give the complete code for the  BankAccount class."
      ],
      "metadata": {
        "id": "r_GxrS0Vrdom"
      }
    },
    {
      "cell_type": "markdown",
      "source": [
        "Eg.\n",
        "After making above classes and methods, on executing below code:-\n",
        "```\n",
        "newAccount = BankAccount(2178514584, \"Mandy\" , 2800)\n",
        "\n",
        "newAccount.Withdrawal(700)\n",
        "\n",
        "newAccount.Deposit(1000)\n",
        "\n",
        "newAccount.display()\n",
        "```\n",
        "\n",
        "`Output:`\n",
        "```\n",
        "Account Number :  2178514584\n",
        "Account Name :  Mandy\n",
        "Account Balance :  3100 ₹\n",
        "```"
      ],
      "metadata": {
        "id": "qvVkOUJgvTV_"
      }
    },
    {
      "cell_type": "code",
      "source": [
        "class Bank:\n",
        "  def __init__(self, acc_num, name, balance):\n",
        "    self.__acc_num = acc_num\n",
        "    self.__name = name\n",
        "    self.__balance = balance\n",
        "\n",
        "  def deposit(self, amount):\n",
        "    self.__balance = self.__balance + amount\n",
        "\n",
        "  def withdrawl(self, amount):\n",
        "    if amount <= self.__balance:\n",
        "      self.__balance = self.__balance - amount\n",
        "    else:\n",
        "      print('Insufficient balance')\n",
        "\n",
        "  def bankFees(self):\n",
        "    return self.__balance * 0.05\n",
        "\n",
        "  def display(self):\n",
        "    print('Account Number :', self.__acc_num)\n",
        "    print('Account Name :', self.__name)\n",
        "    print('Account Balance :', self.__balance)\n",
        "\n",
        "obj = Bank(2178514584, \"Mandy\" , 2800)\n",
        "print('Before Deposit')\n",
        "obj.display()\n",
        "print()\n",
        "obj.deposit(500)\n",
        "print('After Deposit')\n",
        "obj.display()\n",
        "print()\n",
        "obj.withdrawl(200)\n",
        "print('After Withdrawl')\n",
        "obj.display()"
      ],
      "metadata": {
        "colab": {
          "base_uri": "https://localhost:8080/"
        },
        "id": "vKu5C8tm3cIm",
        "outputId": "2c0aed8a-4615-4084-c205-233350d36487"
      },
      "execution_count": null,
      "outputs": [
        {
          "output_type": "stream",
          "name": "stdout",
          "text": [
            "Before Deposit\n",
            "Account Number : 2178514584\n",
            "Account Name : Mandy\n",
            "Account Balance : 2800\n",
            "\n",
            "After Deposit\n",
            "Account Number : 2178514584\n",
            "Account Name : Mandy\n",
            "Account Balance : 3300\n",
            "\n",
            "After Withdrawl\n",
            "Account Number : 2178514584\n",
            "Account Name : Mandy\n",
            "Account Balance : 3100\n"
          ]
        }
      ]
    },
    {
      "cell_type": "markdown",
      "source": [
        "##`Q-3:Computation class`\n",
        "\n",
        "1. Create a `Computation` class with a default constructor (without parameters) allowing to perform various calculations on integers numbers.\n",
        "2. Create a method called `Factorial()` which allows to calculate the factorial of an integer n. Integer n as parameter for this method\n",
        "\n",
        "3. Create a method called `naturalSum()` allowing to calculate the sum of the first n integers 1 + 2 + 3 + .. + n. Integer n as parameter for this method.\n",
        "\n",
        "4. Create a method called `testPrime()` in  the Calculation class to test the primality of a given integer n, n is Prime or Not? Integer n as parameter for this method.\n",
        "\n",
        "5. Create  a method called `testPrims()` allowing to test if two numbers are prime between them. Two integers are prime to one another if they have only `1` as their common divisor. Eg. 4 and 9 are prime to each other.\n",
        "\n",
        "5. Create a `tableMult()` method which creates and displays the multiplication table of a given integer. Then create an `allTablesMult()` method to display all the integer multiplication tables 1, 2, 3, ..., 9.\n",
        "\n",
        "6. Create a static `listDiv()` method that gets all the divisors of a given integer on new list called  Ldiv. Create another `listDivPrim()` method that gets all the prime divisors of a given integer."
      ],
      "metadata": {
        "id": "QovcQAZTrgGU"
      }
    },
    {
      "cell_type": "code",
      "source": [
        "class Computation:\n",
        "  def __init__(self):\n",
        "    pass\n",
        "\n",
        "  def factorial(self, n):\n",
        "    result = 1\n",
        "    for i in range(1, n+1):\n",
        "      result *= i\n",
        "    return result\n",
        "\n",
        "  def naturalSum(self, n):\n",
        "    result = 0\n",
        "    for i in range(1, n+1):\n",
        "      result += i\n",
        "    return result\n",
        "\n",
        "  def testPrime(self, n):\n",
        "    for i in range(2, n):\n",
        "      if n%i == 0:\n",
        "        return False\n",
        "        break\n",
        "    else:\n",
        "      return True\n",
        "\n",
        "  def testPrims(self, x, y):\n",
        "    if x != y:\n",
        "      common = 0\n",
        "      for i in range(1, x+1):\n",
        "        if (x%i == 0) and (y%i == 0):\n",
        "          common += 1\n",
        "      if common == 1:\n",
        "        print('{} and {} are co-prime numbers'.format(x, y))\n",
        "      else:\n",
        "        print('{} and {} are not co-prime numbers'.format(x, y))\n",
        "    else:\n",
        "      return self.testPrime(x)\n",
        "\n",
        "  def tableMult(self, num):\n",
        "    for i in range(1, 11):\n",
        "      print('{} x {} = {}'.format(num, i, num*i))\n",
        "\n",
        "  def allTablesMult(self):\n",
        "    for i in range(1, 10):\n",
        "      print('Multiplication Table of', i)\n",
        "      for j in range(1, 11):\n",
        "        print('{} x {} = {}'.format(i, j, i*j))\n",
        "      print()\n",
        "\n",
        "  def listDiv(self, num):\n",
        "    Ldiv = []\n",
        "    for i in range(1, num+1):\n",
        "      if num%i == 0:\n",
        "        Ldiv.append(i)\n",
        "    print('List of divisors of {} is {}'.format(num, Ldiv))\n",
        "\n",
        "  def listDivPrime(self, num):\n",
        "    Ldiv = []\n",
        "    for i in range(1, num+1):\n",
        "      if num%i == 0 and self.testPrime(i):\n",
        "        Ldiv.append(i)\n",
        "    print('List of prime divisors of {} is {}'.format(num, Ldiv))\n",
        "\n",
        "obj = Computation()\n",
        "# obj.factorial(4)\n",
        "# obj.naturalSum(10)\n",
        "# obj.testPrime(11)\n",
        "obj.testPrims(7, 8)\n",
        "# obj.tableMult(4)\n",
        "# obj.allTablesMult()\n",
        "# obj.listDiv(24)\n",
        "# obj.listDivPrime(24)"
      ],
      "metadata": {
        "colab": {
          "base_uri": "https://localhost:8080/"
        },
        "id": "q-4o6tLb7oUH",
        "outputId": "0c740afb-e9c3-438c-9651-1f1d49e6fd37"
      },
      "execution_count": 12,
      "outputs": [
        {
          "output_type": "stream",
          "name": "stdout",
          "text": [
            "7 and 8 are co-prime numbers\n"
          ]
        }
      ]
    },
    {
      "cell_type": "markdown",
      "source": [
        "##`Q-4`: Build flashcard using class in Python.\n",
        "\n",
        "Build a flashcard using class in python. A flashcard is a card having information on both sides, which can be used as an aid in memoization. Flashcards usually have a question on one side and an answer on the other.\n",
        "\n",
        "**Example 1:**\n",
        "\n",
        "Approach:\n",
        "\n",
        "- Create a class named FlashCard.\n",
        "- Initialize dictionary fruits using __init__() method. Here you have to define fruit name as key and it's color as value. E.g., {\"Banana\": \"yellow\", \"Strawberries\": \"pink\"}\n",
        "- Now randomly choose a pair from fruits by using _random_ module and store the key in variable _fruit_ and _value_ in variable color.\n",
        "- Now prompt the user to answer the color of the randomly chosen fruit.\n",
        "- If correct print correct else print wrong.\n",
        "\n",
        "Output:\n",
        "```bash\n",
        "welcome to fruit quiz\n",
        "What is the color of Strawberries\n",
        "pink\n",
        "Correct answer\n",
        "Enter 0, if you want to play again: 0\n",
        "What is the color of watermelon\n",
        "green\n",
        "Correct answer\n",
        "Enter 0, if you want to play again: 1\n",
        "```"
      ],
      "metadata": {
        "id": "0yn23_oEriXa"
      }
    },
    {
      "cell_type": "code",
      "source": [
        "import random\n",
        "\n",
        "class FlashCard:\n",
        "  def __init__(self):\n",
        "    self.__fruits = {\n",
        "        'apple' : 'red',\n",
        "        'banana' : 'yellow',\n",
        "        'guava' : 'green',\n",
        "        'strawberry' : 'pink',\n",
        "        'orange' : 'orange'\n",
        "    }\n",
        "\n",
        "  def quiz(self):\n",
        "    while True:\n",
        "      fruit, color = random.choices(list(self.__fruits.items()))[0]\n",
        "\n",
        "      answer = input('What is the color of {} : '.format(fruit))\n",
        "      if answer == color:\n",
        "        print('correct answer')\n",
        "      else:\n",
        "        print('wrong answer')\n",
        "\n",
        "      option = int(input('Enter 0 to play more or 1 to exit : '))\n",
        "      if option:\n",
        "        break\n",
        "\n",
        "f = FlashCard()\n",
        "f.quiz()"
      ],
      "metadata": {
        "colab": {
          "base_uri": "https://localhost:8080/"
        },
        "id": "Dm0VhsKG4aYW",
        "outputId": "d2d204bb-2f00-4e38-e315-69fe40a9ed3d"
      },
      "execution_count": null,
      "outputs": [
        {
          "name": "stdout",
          "output_type": "stream",
          "text": [
            "What is the color of orange : orange\n",
            "correct answer\n",
            "Enter 0 to play more or 1 to exit : 0\n",
            "What is the color of banana : yellow\n",
            "correct answer\n",
            "Enter 0 to play more or 1 to exit : 1\n"
          ]
        }
      ]
    },
    {
      "cell_type": "markdown",
      "source": [
        "## `Q-5:` Problem 5 based on OOP Python.\n",
        "\n",
        "TechWorld, a technology training center, wants to allocate courses for instructors. An instructor is identified by name, technology skills, experience and average feedback. An instructor is allocated a course, if he/she satisfies the below two conditions:\n",
        "- eligibility criteria:\n",
        "    - if experience is more than 3 years, average feedback should be 4.5 or more\n",
        "    - if experience is 3 years or less, average feedback should be 4 or more\n",
        "- he/she should posses the technology skill for the course\n",
        "\n",
        "Identify the class name and attributes to represent instructors. Write a Python program to implement the class chosen with its attributes and methods.\n",
        "\n",
        "**Note:**\n",
        "- Consider all instance variables to be private and methods to be public.\n",
        "- An instructor may have multiple technology skills, so consider instance variable, technology_skill to be a list.\n",
        "- *check_eligibility()*: Return true if eligibility criteria is satisfied by the instructor. Else, return false\n",
        "- *allocate_course(technology)*: Return true if the course which requires the given technology can be allocated to the instructor. Else, return false.\n",
        "\n",
        "Represent a few objects of the class, initialize instance variables using setter methods, invoke\n",
        "appropriate methods and test your program."
      ],
      "metadata": {
        "id": "GN2r0jbRewYr"
      }
    },
    {
      "cell_type": "code",
      "source": [
        "class Instructor:\n",
        "  def __init__(self, name, skills, experience, feedback):\n",
        "    self.__name = name\n",
        "    self.__skills = skills\n",
        "    self.__experience = experience\n",
        "    self.__feedback = feedback\n",
        "\n",
        "  def check_eligibility(self):\n",
        "    if self.__experience > 3 and self.__feedback >= 4.5:\n",
        "      return True\n",
        "    elif self.__experience <= 3 and self.__feedback >= 4:\n",
        "      return True\n",
        "    else:\n",
        "      return False\n",
        "\n",
        "  def allocate_course(self, technology):\n",
        "    is_eligible = self.check_eligibility()\n",
        "    if is_eligible:\n",
        "      if technology in self.__skills:\n",
        "        return True\n",
        "      else:\n",
        "        return False\n",
        "    else:\n",
        "      return False\n",
        "\n",
        "obj = Instructor('Ravi', ['Python', 'Web Development', 'Data Science'], 4, 4.6)\n",
        "obj.allocate_course('Data Science')"
      ],
      "metadata": {
        "id": "yFi72gO6qO5l",
        "colab": {
          "base_uri": "https://localhost:8080/"
        },
        "outputId": "6c4bf680-ab17-4e26-9647-1e8014fdaada"
      },
      "execution_count": 1,
      "outputs": [
        {
          "output_type": "execute_result",
          "data": {
            "text/plain": [
              "True"
            ]
          },
          "metadata": {},
          "execution_count": 1
        }
      ]
    }
  ]
}